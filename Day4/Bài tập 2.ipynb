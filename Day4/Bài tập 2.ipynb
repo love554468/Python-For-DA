{
 "cells": [
  {
   "cell_type": "code",
   "execution_count": 1,
   "id": "c7d5333e",
   "metadata": {},
   "outputs": [
    {
     "name": "stdout",
     "output_type": "stream",
     "text": [
      "45\n"
     ]
    }
   ],
   "source": [
    "# 1.\tTính tổng của một chuỗi (range) tự cho trước\n",
    "\n",
    "s = 0\n",
    "for i in range(1, 10):\n",
    "    s += i\n",
    "\n",
    "print(s)    "
   ]
  },
  {
   "cell_type": "code",
   "execution_count": 14,
   "id": "d0ebae93",
   "metadata": {},
   "outputs": [
    {
     "name": "stdout",
     "output_type": "stream",
     "text": [
      "[0, 2, 4, 6, 8]\n",
      "[0, 0, 2, 6, 12]\n"
     ]
    }
   ],
   "source": [
    "# 2.\tCho list sau l = [0, 2, 4, 6, 8]. Tạo ra một list mới mà từng phần tử trong list là tổng cộng dồn của các phần tử trước đó của l. Giải quyết bằng for và while.\n",
    "\n",
    "l = [0, 2, 4, 6, 8]\n",
    "ll = []\n",
    "lenn = len(l)\n",
    "\n",
    "for i in range(lenn):\n",
    "    s = 0\n",
    "    if i == 0: ll.append(l[0])\n",
    "    elif i == 1: ll.append(l[0])\n",
    "    else:\n",
    "        while i:\n",
    "            s+=l[i-1]\n",
    "            i-=1\n",
    "        ll.append(s)\n",
    "\n",
    "print(l)\n",
    "print(ll)"
   ]
  },
  {
   "cell_type": "code",
   "execution_count": 16,
   "id": "aa54edd1",
   "metadata": {},
   "outputs": [
    {
     "name": "stdout",
     "output_type": "stream",
     "text": [
      "Xin chao! Toi ten la Hoa\n",
      "Xin chao! Toi ten la An\n",
      "Xin chao! Toi ten la Tan\n",
      "Xin chao! Toi ten la Van\n"
     ]
    }
   ],
   "source": [
    "# 3.\tCho danh sách tên như sau sau: name = [Hoa, An, Tan, Van]. Sử dụng lệnh for để in ra “Xin chào! Tôi tên là” + tên trong list.\n",
    "\n",
    "name = [\"Hoa\", \"An\", \"Tan\", \"Van\"]\n",
    "\n",
    "for i in name:\n",
    "    print(\"Xin chao! Toi ten la\", i)"
   ]
  },
  {
   "cell_type": "code",
   "execution_count": 18,
   "id": "0a7295a1",
   "metadata": {},
   "outputs": [
    {
     "name": "stdout",
     "output_type": "stream",
     "text": [
      "Xin chao! Toi ten la Dr.Hoa\n",
      "Xin chao! Toi ten la Dr.An\n",
      "Xin chao! Toi ten la Dr.Tan\n",
      "Xin chao! Toi ten la Dr.Van\n"
     ]
    }
   ],
   "source": [
    "#4.\tCũng với list trên, hãy tạo ra một list mới nhưng có thêm tiền tố “Dr.” (ví dụ Dr.Hoa).\n",
    "\n",
    "name = [\"Hoa\", \"An\", \"Tan\", \"Van\"]\n",
    "\n",
    "for i in name:\n",
    "    print(f\"Xin chao! Toi ten la Dr.{i}\")"
   ]
  },
  {
   "cell_type": "code",
   "execution_count": 21,
   "id": "a0eb0ca5",
   "metadata": {},
   "outputs": [
    {
     "name": "stdout",
     "output_type": "stream",
     "text": [
      "15\n"
     ]
    }
   ],
   "source": [
    "# 5.\tTính tổng ký tự trong chuỗi sau: str = “Python Function”.\n",
    "strr = \"Python Function\"\n",
    "s = 0\n",
    "for i in strr:\n",
    "    s +=1\n",
    "    \n",
    "print(s)"
   ]
  },
  {
   "cell_type": "code",
   "execution_count": 22,
   "id": "4a7cd1cf",
   "metadata": {},
   "outputs": [
    {
     "name": "stdout",
     "output_type": "stream",
     "text": [
      "[-3, -2]\n"
     ]
    }
   ],
   "source": [
    "# 6.\tCho một list sau: l = [-2, -3, -6, 0, 3, 4, 4]. Tạo ra một list mới mà chỉ có số âm từ list vừa cho.\n",
    "\n",
    "l = [-2, -3, -6, 0, 3, 4, 4]\n",
    "\n",
    "ll = []\n",
    "\n",
    "for i in l:\n",
    "    if l[i] < 0:\n",
    "        ll.append(l[i])\n",
    "        \n",
    "print(ll)"
   ]
  },
  {
   "cell_type": "code",
   "execution_count": 12,
   "id": "88284afd",
   "metadata": {},
   "outputs": [
    {
     "name": "stdout",
     "output_type": "stream",
     "text": [
      "{0: <class 'int'>, 1: <class 'float'>, 2: <class 'str'>, 3: <class 'NoneType'>, 4: <class 'bool'>, 5: <class 'dict'>, 6: <class 'list'>, 7: <class 'tuple'>}\n"
     ]
    }
   ],
   "source": [
    "# 7.\tCho một list sau: l = [2, 4.1, “Hello”, None, False, {}, [], ()]. Tạo ra một dictionary mới sao cho dictionary mới chứa key là phần tử của list và chứ name là loại đối tượng của từng phần tử thuộc list.\n",
    "    \n",
    "l = [2, 4.1, \"Hello\", None, False, {}, [], ()]\n",
    "\n",
    "d = dict()\n",
    "\n",
    "for i in range(len(l)):\n",
    "#     print(i)\n",
    "#     print(type(l[i]))\n",
    "    d[i] = type(l[i])\n",
    "\n",
    "print(d)"
   ]
  },
  {
   "cell_type": "code",
   "execution_count": 13,
   "id": "4bd8a2eb",
   "metadata": {},
   "outputs": [
    {
     "name": "stdout",
     "output_type": "stream",
     "text": [
      "11.5\n"
     ]
    }
   ],
   "source": [
    "# 8.\t(Nâng cao) Tạo ra một function (trong đó có sử dụng for) mà tham số sẽ là một list bất kỳ (không phải loại object khác). Khi nhập một list bất kỳ vào function thì sẽ trả về kết quả là một tổng.  \n",
    "\n",
    "def f(*args):\n",
    "    s = 0\n",
    "    for i in args:\n",
    "        s+=i\n",
    "    return s\n",
    "\n",
    "print(f(1,2,3,5.5))"
   ]
  },
  {
   "cell_type": "code",
   "execution_count": 23,
   "id": "b73e32b2",
   "metadata": {},
   "outputs": [],
   "source": [
    "# 9.\t(Nâng cao hơn) Với yêu cầu trên nhưng thêm yêu cầu sau: từng phần tử trong list phải là số nguyên, nếu không phải thì in dòng cảnh báo: “Kiểm tra lại list, có phần tử không phải là số nguyên” và dừng tính tổng. Nếu từng phần tử là số nguyên thì tính tổng của list.\n",
    "\n",
    "# def f(*args):\n",
    "#     s = 0\n",
    "#     for i in args:\n",
    "# #         print(type(i))\n",
    "#         if type(i) == '<class \\'int\\'>':\n",
    "#             s+=i\n",
    "#         else:\n",
    "#             print(\"Kiem tra lai list, co phan tu khong phai la so nguyen\")\n",
    "#             return -1\n",
    "#     return s\n",
    "\n",
    "# print(f(1,2,3,5.5))\n",
    "# print(f(1,2,3,5))"
   ]
  },
  {
   "cell_type": "code",
   "execution_count": 16,
   "id": "b096af2b",
   "metadata": {},
   "outputs": [
    {
     "data": {
      "text/plain": [
       "int"
      ]
     },
     "execution_count": 16,
     "metadata": {},
     "output_type": "execute_result"
    }
   ],
   "source": [
    "type(1)"
   ]
  },
  {
   "cell_type": "code",
   "execution_count": 26,
   "id": "b7fedef6",
   "metadata": {},
   "outputs": [
    {
     "name": "stdout",
     "output_type": "stream",
     "text": [
      "VNH\n",
      "KDC\n",
      "MSN\n"
     ]
    }
   ],
   "source": [
    "## 10.\t(Kết hợp for -if - continue) Cho list sau: lst = [“AAA”, “ACB”, “VNH”, “KDC”, “MSN”]. Không in các phần tử của list nếu ký tự đầu tiên là “A”. Lặp lại kết quả trên bằng while.\n",
    "\n",
    "for i in [\"AAA\", 'ACB', \"VNH\", \"KDC\", \"MSN\"]:\n",
    "    if i[0] == 'A':\n",
    "        continue\n",
    "    else:\n",
    "        print(i)\n",
    "        \n",
    "# khoong can dung while"
   ]
  },
  {
   "cell_type": "code",
   "execution_count": 27,
   "id": "77aa5975",
   "metadata": {},
   "outputs": [
    {
     "name": "stdout",
     "output_type": "stream",
     "text": [
      "AAA\n",
      "ACB\n"
     ]
    }
   ],
   "source": [
    "## 11.\tVẫn list trên. In toàn bộ các phần tử của list kể cả nếu ký tự đầu tiên là “A”. Lặp lại kết quả trên bằng while.\n",
    "\n",
    "for i in [\"AAA\", 'ACB', \"VNH\", \"KDC\", \"MSN\"]:\n",
    "    if i[0] == 'A':\n",
    "        \n",
    "        print(i)\n",
    "    else:\n",
    "        continue"
   ]
  },
  {
   "cell_type": "code",
   "execution_count": 28,
   "id": "993262ee",
   "metadata": {},
   "outputs": [
    {
     "data": {
      "text/plain": [
       "[-1, -2, -3]"
      ]
     },
     "execution_count": 28,
     "metadata": {},
     "output_type": "execute_result"
    }
   ],
   "source": [
    "## 12.\tCho một list như sau: lst = [-1, -2, -3, 2, 3, 4]. Áp dụng list comprehension để tạo ra một list mới chỉ có số âm.\n",
    "\n",
    "lst = [-1, -2, -3, 2, 3, 4]\n",
    "\n",
    "[i for i in lst if i<0]"
   ]
  },
  {
   "cell_type": "code",
   "execution_count": 31,
   "id": "15c5d4f1",
   "metadata": {},
   "outputs": [
    {
     "data": {
      "text/plain": [
       "['None', 'None', 'None', 'C', 'C']"
      ]
     },
     "execution_count": 31,
     "metadata": {},
     "output_type": "execute_result"
    }
   ],
   "source": [
    "# 13.\tCho list sau: lst = [“AAA”, “ACB”, “VNH”, “KDC”, “KBC”]. Hãy sử dụng list comprehension để in những ký từ cuối cùng của từng phần tử với điều kiện phần tử kết thúc bằng chữ “C”. Nếu không kết thúc bằng chữ C thì in None trong cùng một list.   \n",
    "\n",
    "l = [\"AAA\", 'ACB', \"VNH\", \"KDC\", \"KBC\"]\n",
    "ll = []    \n",
    "    \n",
    "for i in [i[-1] == 'C' for i in l]:\n",
    "    if i:\n",
    "        ll.append('C')\n",
    "    else:\n",
    "        ll.append('None')\n",
    "        \n",
    "ll"
   ]
  },
  {
   "cell_type": "code",
   "execution_count": 34,
   "id": "e256fb9b",
   "metadata": {},
   "outputs": [
    {
     "data": {
      "text/plain": [
       "2.85"
      ]
     },
     "execution_count": 34,
     "metadata": {},
     "output_type": "execute_result"
    }
   ],
   "source": [
    "## 14.\t(Hơi khó) Cho một list sau: lst = [128, 1, 45, 67, 89, 92, 2, 4, 5, 6, 56, 53, 68, 200, 34, 63, 34, 54, 12, 34, 42, 56, 67, 45, 67, 78, 24, 12, 23, 46, 56, 7, 9, 1, 0, 222, 123, 25, 56, 67, 67, 43, 2, 3, 45, 89, 12, 75, 82, 71, 75, 21, 65, 23, 91, 65, 21]. Hãy tạo ra một list mới mà list này chỉ chứa ouliers. Outliers là những giá trị thấp hơn phân vị thứ 5 và cao hơn phân vị thứ 95.\n",
    "\n",
    "\n",
    "lst = [128, 1, 45, 67, 89, 92, 2, 4, 5, 6, 56, 53, 68, 200, 34, 63, 34, 54, 12, 34, 42, 56, 67, 45, 67, 78, 24, 12, 23, 46, 56, 7, 9, 1, 0, 222, 123, 25, 56, 67, 67, 43, 2, 3, 45, 89, 12, 75, 82, 71, 75, 21, 65, 23, 91, 65, 21]\n",
    "\n",
    "n = len(lst)\n",
    "\n",
    "# tham khảo http://xdulieu.com/thong-ke/tk1-thong-ke-mo-ta/mt8-so-phan-vi-bieu-do-hop.html\n",
    "\n",
    "\n",
    "#k = np/100\n",
    "\n",
    "k = n*5/100\n",
    "k"
   ]
  },
  {
   "cell_type": "code",
   "execution_count": 35,
   "id": "e9bce379",
   "metadata": {},
   "outputs": [
    {
     "data": {
      "text/plain": [
       "54.15"
      ]
     },
     "execution_count": 35,
     "metadata": {},
     "output_type": "execute_result"
    }
   ],
   "source": [
    "# k lẻ -> k = 2\n",
    "\n",
    "# tương tự với bách phân vị thứ 95%\n",
    "\n",
    "k2 = n*95/100\n",
    "k2"
   ]
  },
  {
   "cell_type": "code",
   "execution_count": 40,
   "id": "26288468",
   "metadata": {},
   "outputs": [
    {
     "name": "stdout",
     "output_type": "stream",
     "text": [
      "[0, 1, 1, 2, 2, 3, 4, 5, 6, 7, 9, 12, 12, 12, 21, 21, 23, 23, 24, 25, 34, 34, 34, 42, 43, 45, 45, 45, 46, 53, 54, 56, 56, 56, 56, 63, 65, 65, 67, 67, 67, 67, 67, 68, 71, 75, 75, 78, 82, 89, 89, 91, 92, 123, 128, 200, 222]\n"
     ]
    },
    {
     "data": {
      "text/plain": [
       "[0, 200, 222]"
      ]
     },
     "execution_count": 40,
     "metadata": {},
     "output_type": "execute_result"
    }
   ],
   "source": [
    "# k lẻ -> k= 54\n",
    "\n",
    "# nên outlier sẽ là những thằng < 2 và > 54\n",
    "new_lst = sorted(lst)\n",
    "print(new_lst)\n",
    "\n",
    "outlierr = [i for i in new_lst if i<new_lst[2] or i>new_lst[54]]\n",
    "outlierr"
   ]
  },
  {
   "cell_type": "code",
   "execution_count": 41,
   "id": "4bf10bc3",
   "metadata": {},
   "outputs": [
    {
     "data": {
      "text/plain": [
       "[0, 0, 0, 0]"
      ]
     },
     "execution_count": 41,
     "metadata": {},
     "output_type": "execute_result"
    }
   ],
   "source": [
    "# 15.\tCho hai list: l1 = [1, 2, 3, 4] và l2 = [-1, -2, -3, -4]. Sử dụng for + zip để tạo ra một list mới với điều kiện từng phần tử của list mới bằng tổng hai phần tử của 2 list. \n",
    "l1 = [1, 2, 3, 4]\n",
    "\n",
    "l2 = [-i for i in l1]\n",
    "\n",
    "l3 = []\n",
    "\n",
    "for i, j in zip(l1,l2):\n",
    "    l3.append(i+j)\n",
    "    \n",
    "l3\n"
   ]
  },
  {
   "cell_type": "code",
   "execution_count": 43,
   "id": "3d7b54cc",
   "metadata": {},
   "outputs": [
    {
     "name": "stdout",
     "output_type": "stream",
     "text": [
      "[1, 2, 3]\n",
      "[-1, -2, -3]\n"
     ]
    }
   ],
   "source": [
    "# 16.\tCho một list như sau: [(1, -1), (2, -2), (3, -3)]. Hãy tách các phần tử trong từng tuple (thuộc list) thành hai list theo điều kiện: phần tử thứ nhất trong mỗi tup sẽ được tách vào list thứ nhất và phần tử thứ hai trong mỗi tup sẽ được tách vào list thứ hai.\n",
    "\n",
    "l1, l2 = [], []\n",
    "\n",
    "for i in [(1, -1), (2, -2), (3, -3)]:\n",
    "    l1.append(i[0])\n",
    "    l2.append(i[1])\n",
    "\n",
    "    \n",
    "print(l1)\n",
    "print(l2)"
   ]
  },
  {
   "cell_type": "code",
   "execution_count": 48,
   "id": "ae5729e3",
   "metadata": {},
   "outputs": [
    {
     "name": "stdout",
     "output_type": "stream",
     "text": [
      "(\"SBT\", \"DXS\", \"NVL\", \"SSI\")\n",
      "1 : SBT\n",
      "2 : DXS\n",
      "3 : NVL\n",
      "4 : SSI\n"
     ]
    }
   ],
   "source": [
    "# 17.\tCho một tup:  firm = (“SBT”, “DXS”, “NVL”, “SSI”). Kết hợp for và enumarate để tạo ra kết quả như sau:\n",
    "\n",
    "a = \"(“SBT”, “DXS”, “NVL”, “SSI”)\"\n",
    "\n",
    "firm = a.replace(\"“\",\"\\\"\").replace(\"”\",\"\\\"\")\n",
    "print(firm)\n",
    "\n",
    "firm = (\"SBT\", \"DXS\", \"NVL\", \"SSI\")\n",
    "\n",
    "for idx, val in enumerate(firm):\n",
    "    print(idx+1, \":\", val)"
   ]
  },
  {
   "cell_type": "code",
   "execution_count": 56,
   "id": "c6e708d7",
   "metadata": {},
   "outputs": [
    {
     "name": "stdout",
     "output_type": "stream",
     "text": [
      "(i) tomato , (ii) 6.7 , (iii) tomato - 6.7\n",
      "(i) orange , (ii) 7.2 , (iii) orange - 7.2\n",
      "(i) potato , (ii) 5 , (iii) potato - 5\n",
      "(i) banana , (ii) 0.59 , (iii) banana - 0.59\n"
     ]
    }
   ],
   "source": [
    "# 18.\tCho một dict như sau: dct = {\"tomato\": 6.7, \"orange\": 7.2, \"potato\": 5, \"banana\": 0.59}. Hãy in ra các kết quả sau: (i) key, (ii) value, và (iii) Key - Value\n",
    "dct = {\"tomato\": 6.7, \"orange\": 7.2, \"potato\": 5, \"banana\": 0.59}\n",
    "for key, val in dct.items():\n",
    "    print('(i)',key, end=' , ')\n",
    "    print('(ii)',val, end=' , ') \n",
    "    print('(iii)',f'{key} - {val}')"
   ]
  },
  {
   "cell_type": "code",
   "execution_count": 58,
   "id": "248313cf",
   "metadata": {},
   "outputs": [
    {
     "data": {
      "text/plain": [
       "[[5, 6, 7, 8, 9, 10],\n",
       " [5, 6, 7, 8, 9, 10],\n",
       " [5, 6, 7, 8, 9, 10],\n",
       " [5, 6, 7, 8, 9, 10]]"
      ]
     },
     "execution_count": 58,
     "metadata": {},
     "output_type": "execute_result"
    }
   ],
   "source": [
    "# 19.\tSử dụng nested for và Nested list comprehension để tạo ra một ma trận như sau:\n",
    "[[ i for i in range(5,11)] for i in range(4)]"
   ]
  },
  {
   "cell_type": "code",
   "execution_count": 63,
   "id": "6ac9c0b5",
   "metadata": {},
   "outputs": [
    {
     "name": "stdout",
     "output_type": "stream",
     "text": [
      "* \n",
      "* * \n",
      "* * * \n"
     ]
    }
   ],
   "source": [
    "# *, ** 20.\tSử dụng nested for để in ra kết quả như sau:\n",
    "n = 3\n",
    "for hang in range(1, n+1):\n",
    "   for cot in range(1, hang+1):\n",
    "       print(\"*\", end=' ')\n",
    "   print()"
   ]
  },
  {
   "cell_type": "code",
   "execution_count": 2,
   "id": "377bc283",
   "metadata": {},
   "outputs": [
    {
     "name": "stdout",
     "output_type": "stream",
     "text": [
      "* \n",
      "* * \n",
      "* * * \n"
     ]
    }
   ],
   "source": [
    "# 21.\t(Khó hơn bài trên) Áp dụng nested while loop để in ra kết quả như trên\n",
    "\n",
    "i = 1\n",
    "n=3\n",
    "while n:\n",
    "    j = i\n",
    "    while j:\n",
    "        print(\"*\", end= ' ')\n",
    "        j-=1\n",
    "    i+=1\n",
    "    n-=1\n",
    "    print()"
   ]
  },
  {
   "cell_type": "code",
   "execution_count": 9,
   "id": "4da0aa80",
   "metadata": {},
   "outputs": [
    {
     "name": "stdout",
     "output_type": "stream",
     "text": [
      "\n",
      "H \n",
      "H e \n",
      "H e l \n",
      "H e l l \n",
      "H e l l o \n",
      "H e l l o   \n",
      "H e l l o   P \n",
      "H e l l o   P y \n",
      "H e l l o   P y t \n",
      "H e l l o   P y t h \n",
      "H e l l o   P y t h o \n"
     ]
    }
   ],
   "source": [
    "h = \"Hello Python\"\n",
    "n = len(h)\n",
    "for hang in range(0, n):\n",
    "   for i in range(0, hang):\n",
    "       print(h[i], end=' ')\n",
    "   print()"
   ]
  },
  {
   "cell_type": "code",
   "execution_count": 8,
   "id": "9a37e7e0",
   "metadata": {},
   "outputs": [
    {
     "name": "stdout",
     "output_type": "stream",
     "text": [
      "\n",
      "B \n",
      "B i \n",
      "B i n \n",
      "B i n h \n",
      "B i n h d \n",
      "B i n h d e \n",
      "B i n h d e p \n",
      "B i n h d e p t \n",
      "B i n h d e p t r \n",
      "B i n h d e p t r a \n",
      "B i n h d e p t r a i \n"
     ]
    }
   ],
   "source": [
    "# 23.\tGiải quyết bài toán trên bằng cách lồng for vào function. Tham số của function nhận các chuỗi bất kỳ\n",
    "\n",
    "h = \"Hello Python\"\n",
    "n = len(h)\n",
    "def fun(f):\n",
    "    for hang in range(0, n):\n",
    "       for i in range(0, hang):\n",
    "           print(f[i], end=' ')\n",
    "       print()\n",
    "    \n",
    "fun(\"Binhdeptrai\")"
   ]
  },
  {
   "cell_type": "code",
   "execution_count": 11,
   "id": "9a37fc45",
   "metadata": {},
   "outputs": [
    {
     "name": "stdout",
     "output_type": "stream",
     "text": [
      "ITA 2020 Q1\n",
      "ITA 2020 Q2\n",
      "ITA 2020 Q3\n",
      "ITA 2020 Q4\n",
      "ITA 2021 Q1\n",
      "ITA 2021 Q2\n",
      "ITA 2021 Q3\n",
      "ITA 2021 Q4\n",
      "HU2 2020 Q1\n",
      "HU2 2020 Q2\n",
      "HU2 2020 Q3\n",
      "HU2 2020 Q4\n",
      "HU2 2021 Q1\n",
      "HU2 2021 Q2\n",
      "HU2 2021 Q3\n",
      "HU2 2021 Q4\n",
      "SZC 2020 Q1\n",
      "SZC 2020 Q2\n",
      "SZC 2020 Q3\n",
      "SZC 2020 Q4\n",
      "SZC 2021 Q1\n",
      "SZC 2021 Q2\n",
      "SZC 2021 Q3\n",
      "SZC 2021 Q4\n"
     ]
    }
   ],
   "source": [
    "Year = [2020, 2021]\n",
    "Quarter = [\"Q1\", \"Q2\", \"Q3\", \"Q4\"]\n",
    "Name = [\"ITA\", \"HU2\", \"SZC\"] \n",
    "\n",
    "\n",
    "for i in Name:\n",
    "    for j in Year:\n",
    "        for k in Quarter:\n",
    "            print(i,j,k)"
   ]
  },
  {
   "cell_type": "code",
   "execution_count": 13,
   "id": "218e95b1",
   "metadata": {},
   "outputs": [
    {
     "data": {
      "text/plain": [
       "[0,\n",
       " 1,\n",
       " 1,\n",
       " 2,\n",
       " 3,\n",
       " 5,\n",
       " 8,\n",
       " 13,\n",
       " 21,\n",
       " 34,\n",
       " 55,\n",
       " 89,\n",
       " 144,\n",
       " 233,\n",
       " 377,\n",
       " 610,\n",
       " 987,\n",
       " 1597,\n",
       " 2584,\n",
       " 4181,\n",
       " 6765,\n",
       " 10946,\n",
       " 17711,\n",
       " 28657,\n",
       " 46368,\n",
       " 75025,\n",
       " 121393,\n",
       " 196418,\n",
       " 317811,\n",
       " 514229,\n",
       " 832040,\n",
       " 1346269,\n",
       " 2178309,\n",
       " 3524578,\n",
       " 5702887,\n",
       " 9227465,\n",
       " 14930352,\n",
       " 24157817,\n",
       " 39088169,\n",
       " 63245986,\n",
       " 102334155,\n",
       " 165580141,\n",
       " 267914296,\n",
       " 433494437,\n",
       " 701408733,\n",
       " 1134903170,\n",
       " 1836311903,\n",
       " 2971215073,\n",
       " 4807526976,\n",
       " 7778742049]"
      ]
     },
     "execution_count": 13,
     "metadata": {},
     "output_type": "execute_result"
    }
   ],
   "source": [
    "import random\n",
    "def fib():\n",
    "    n = random.randint(1,100)\n",
    "    l = [0,1]\n",
    "    for i in range(n):\n",
    "        l.append(l[i]+l[i+1])\n",
    "    return l\n",
    "\n",
    "fib()"
   ]
  },
  {
   "cell_type": "code",
   "execution_count": null,
   "id": "13ae4ad4",
   "metadata": {},
   "outputs": [],
   "source": []
  }
 ],
 "metadata": {
  "kernelspec": {
   "display_name": "Python 3",
   "language": "python",
   "name": "python3"
  },
  "language_info": {
   "codemirror_mode": {
    "name": "ipython",
    "version": 3
   },
   "file_extension": ".py",
   "mimetype": "text/x-python",
   "name": "python",
   "nbconvert_exporter": "python",
   "pygments_lexer": "ipython3",
   "version": "3.8.11"
  }
 },
 "nbformat": 4,
 "nbformat_minor": 5
}
