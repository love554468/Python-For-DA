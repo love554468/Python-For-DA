{
 "cells": [
  {
   "cell_type": "markdown",
   "id": "e06e9f54",
   "metadata": {},
   "source": [
    "Bài tập này về chủ điểm if else và while\n",
    "\n",
    "+ if else: dùng chuỗi video 4,5,6 (Nội dung if else)\n",
    "+ while dùng chuỗi video (Nội dung while)"
   ]
  },
  {
   "cell_type": "markdown",
   "id": "2d6b1469",
   "metadata": {},
   "source": [
    "### 1. Nội dung if else"
   ]
  },
  {
   "cell_type": "code",
   "execution_count": 1,
   "id": "f89f1afc",
   "metadata": {},
   "outputs": [
    {
     "name": "stdout",
     "output_type": "stream",
     "text": [
      "nhap nam: 2022\n",
      "Nam khong nhuan\n"
     ]
    }
   ],
   "source": [
    "### i.\tNhập từ bàn phím một năm và kiểm tra xem đây có phải là năm nhuận hay không?\n",
    "\n",
    "### Năm nhuận là năm chia hết cho 400 hoặc (năm đó chia hết cho 4 và không chia hết cho 100)\n",
    "\n",
    "yearr = int(input('nhap nam: '))\n",
    "\n",
    "if (yearr % 400 == 0) or ((yearr % 4 == 0)) and (yearr % 100 != 0):\n",
    "    print(\"Nam nhuan\")\n",
    "else:\n",
    "    print(\"Nam khong nhuan\")"
   ]
  },
  {
   "cell_type": "code",
   "execution_count": 2,
   "id": "37ede458",
   "metadata": {},
   "outputs": [
    {
     "name": "stdout",
     "output_type": "stream",
     "text": [
      "nhap nam: 2000\n",
      "nam nhuan\n"
     ]
    }
   ],
   "source": [
    "### cai tien code\n",
    "yearr = int(input('nhap nam: '))\n",
    "print(\"nam nhuan\") if (not yearr%400 ) or ((not yearr%4) and (yearr%100)) else print(\"nam khong nhuan\")"
   ]
  },
  {
   "cell_type": "code",
   "execution_count": 3,
   "id": "2892cd8d",
   "metadata": {},
   "outputs": [
    {
     "name": "stdout",
     "output_type": "stream",
     "text": [
      "nhap khao sat do luong muc do hai long: 5\n",
      "Rat hai long\n"
     ]
    }
   ],
   "source": [
    "## ii\n",
    "h = int(input(\"nhap khao sat do luong muc do hai long: \"))\n",
    "\n",
    "if (0<h<6):\n",
    "    if h == 1:\n",
    "        print(\"Rat khong hai long\")\n",
    "    if h == 2:\n",
    "        print(\"Khong hai long\")\n",
    "    if h == 3:\n",
    "        print(\"Binh thuong\")\n",
    "    if h == 4:\n",
    "        print(\"Hai long\")\n",
    "    if h == 5:\n",
    "        print(\"Rat hai long\")\n",
    "else:\n",
    "    print(\" Vui long nhap gia tri tu 1 den 5\")\n",
    "    "
   ]
  },
  {
   "cell_type": "code",
   "execution_count": 4,
   "id": "4cd4067e",
   "metadata": {},
   "outputs": [
    {
     "name": "stdout",
     "output_type": "stream",
     "text": [
      "nhap khao sat do luong muc do hai long: 4\n",
      "Hai long\n"
     ]
    }
   ],
   "source": [
    "## iii\n",
    "h = int(input(\"nhap khao sat do luong muc do hai long: \"))\n",
    "\n",
    "if (0<h<6):\n",
    "    if h == 1:\n",
    "        print(\"Rat khong hai long\")\n",
    "    elif h == 2:\n",
    "        print(\"Khong hai long\")\n",
    "    elif h == 3:\n",
    "        print(\"Binh thuong\")\n",
    "    elif h == 4:\n",
    "        print(\"Hai long\")\n",
    "    else:\n",
    "        print(\"Rat hai long\")\n",
    "else:\n",
    "    print(\" Vui long nhap gia tri tu 1 den 5\")"
   ]
  },
  {
   "cell_type": "code",
   "execution_count": 5,
   "id": "8858e467",
   "metadata": {},
   "outputs": [
    {
     "name": "stdout",
     "output_type": "stream",
     "text": [
      "nhap khao sat do luong muc do hai long: 6\n",
      " Vui long nhap gia tri tu 1 den 5\n"
     ]
    }
   ],
   "source": [
    "## iv\n",
    "\n",
    "l = [\"rat khong hai long\", \"khong hai long\", \"binh thuong\", \"hai long\", \"rat hai long\"]\n",
    "\n",
    "h = int(input(\"nhap khao sat do luong muc do hai long: \"))\n",
    "\n",
    "def f(h):\n",
    "    return print(l[h-1]) if (0<h<6) else print(\" Vui long nhap gia tri tu 1 den 5\")\n",
    "\n",
    "f(h)"
   ]
  },
  {
   "cell_type": "code",
   "execution_count": 6,
   "id": "65ed37a5",
   "metadata": {},
   "outputs": [
    {
     "name": "stdout",
     "output_type": "stream",
     "text": [
      "Nhap so tien mua san pham( triệu vnđ): 8\n",
      "so tien duoc chiet khau(trieu vnd): 0.0 so tien can thanh toan (triệu vnđ): 8.0\n"
     ]
    }
   ],
   "source": [
    "## v\n",
    "\n",
    "# mặc định hiểu: số tiền A là số tiền cho sản phẩm A, \n",
    "#thì số tiền khách hàng cần thanh toán là A và số tiền chiết khấu là A*x% (chiết khấu)\n",
    "\n",
    "m = float(input(\"Nhap so tien mua san pham( triệu vnđ): \"))\n",
    "\n",
    "l = [10, 7, 5, 0]\n",
    "\n",
    "def print_(m, i):\n",
    "    so_tien_chiet_khau = m*l[i-1]*0.01\n",
    "    so_tien_thanh_toan = m\n",
    "    print(f\"so tien duoc chiet khau(trieu vnd): {so_tien_chiet_khau} so tien can thanh toan (triệu vnđ): {so_tien_thanh_toan}\")\n",
    "\n",
    "def f(m):\n",
    "    if m>=15: print_(m, 1)\n",
    "    elif m>=12: print_(m, 2)\n",
    "    elif m>=10: print_(m, 3)\n",
    "    else: print_(m, 4)\n",
    "\n",
    "f(m)\n",
    "        "
   ]
  },
  {
   "cell_type": "code",
   "execution_count": 7,
   "id": "b2cc255b",
   "metadata": {},
   "outputs": [
    {
     "name": "stdout",
     "output_type": "stream",
     "text": [
      "khoi luong cua mot thanh pham: 10\n",
      "Khoi luong dat tieu chuan\n"
     ]
    }
   ],
   "source": [
    "## vi\n",
    "\n",
    "# nhận xét sau khi quan sát đề bài làm không cần suy nghĩ áp khoảng vào làm\n",
    "# mặc định yêu cầu đúng (nghiệp vụ mặc định đúng)\n",
    "\n",
    "g = float(input(\"khoi luong cua mot thanh pham: \"))\n",
    "\n",
    "def qc_check(g):\n",
    "    if g<= 0: print(f\"khoi luong thanh pham {g} \\nDu lieu khong hop le. Hay nhap gia tri dung\")\n",
    "    # sửa lại đề nếu khối lượng trong khoảng 0 ->12 thành 0 ->10\n",
    "    elif g<10:\n",
    "        print(\"Khoi luong thap hon tieu chuan\")\n",
    "        if(g<=7): print(\"Dung quy trinh san xuat de kiem tra\")\n",
    "        else: print(\"Kiem tra quy trinh san xuat\")\n",
    "    elif 10<=g<=12: print(\"Khoi luong dat tieu chuan\")    \n",
    "    elif 12<g<=20:\n",
    "        print(\"khoi luong vuot tieu chuan\")\n",
    "        if 12<g<=15: print(\"Kiem tra quy trinh san xuat\")\n",
    "        else: print(\"Kiem tra lai may\")\n",
    "    else: # neu khoi luong lon hon 20\n",
    "        print(\"Dung quy trinh san xuat de kiem tra\")\n",
    "        \n",
    "qc_check(g)"
   ]
  },
  {
   "cell_type": "code",
   "execution_count": 8,
   "id": "dced643a",
   "metadata": {},
   "outputs": [
    {
     "name": "stdout",
     "output_type": "stream",
     "text": [
      "Khoi luong thap hon tieu chuan\n",
      "Kiem tra quy trinh san xuat\n"
     ]
    }
   ],
   "source": [
    "qc_check(9)"
   ]
  },
  {
   "cell_type": "code",
   "execution_count": 10,
   "id": "6ad58e8d",
   "metadata": {},
   "outputs": [
    {
     "name": "stdout",
     "output_type": "stream",
     "text": [
      "Vios InnovaJ InnovaG tuong ung 1 2 3: 1\n",
      "Nhap so km ban di: 50\n",
      "So tien can thanh toan:  670750.0\n"
     ]
    }
   ],
   "source": [
    "## vii\n",
    "\n",
    "type_car = [\"Vios\", \"InnovaJ\", \"InnovaG\"]\n",
    "\n",
    "Vios = [11000, 14500, 11600]\n",
    "InnovaJ = [11000, 15500, 13600]\n",
    "InnovaG = [12000, 16500, 14600]\n",
    "\n",
    "carr = [Vios, InnovaJ, InnovaG]\n",
    "\n",
    "i = int(input((\" \".join(type_car) + \" tuong ung 1 2 3: \")))\n",
    "h = float(input(\"Nhap so km ban di: \"))\n",
    "\n",
    "# print(carr[i - 1])\n",
    "\n",
    "def tinh_tien(i, x): # i loai xe, x kilomet di duoc\n",
    "    tien = 0\n",
    "    loai_xe = carr[i-1]\n",
    "    if x <= 0.5:\n",
    "        tien = loai_xe[0]*x\n",
    "    elif x < 31:\n",
    "        tien = loai_xe[0] + loai_xe[1]*(x-0.5)\n",
    "    else: # x >=31\n",
    "        tien = loai_xe[0] + loai_xe[1]*(30-0.5) + loai_xe[2]*(x-30)\n",
    "    print(\"So tien can thanh toan: \",tien)\n",
    "    \n",
    "tinh_tien(i, h) # "
   ]
  },
  {
   "cell_type": "markdown",
   "id": "c150ffb1",
   "metadata": {},
   "source": [
    "### 2. Nội dung while"
   ]
  },
  {
   "cell_type": "code",
   "execution_count": 11,
   "id": "de551e60",
   "metadata": {},
   "outputs": [
    {
     "name": "stdout",
     "output_type": "stream",
     "text": [
      "10 11 12 13 14 15 16 17 18 19 20 "
     ]
    }
   ],
   "source": [
    "## i.\tSử dụng while để in các giá trị từ 10 - 20, in các giá trị theo hàng ngang\n",
    "\n",
    "i = 10\n",
    "\n",
    "while i<=20:\n",
    "    print(i, end=\" \")\n",
    "    i +=1"
   ]
  },
  {
   "cell_type": "code",
   "execution_count": 12,
   "id": "09de52c4",
   "metadata": {},
   "outputs": [
    {
     "name": "stdout",
     "output_type": "stream",
     "text": [
      "tong tu 10-20:  165\n"
     ]
    }
   ],
   "source": [
    "## ii.\tSử dụng while để tính tổng từ 10 - 20\n",
    "\n",
    "s, i = 0, 10\n",
    "\n",
    "while i<=20:\n",
    "    s+=i\n",
    "    i+=1\n",
    "\n",
    "print(\"tong tu 10-20: \",s)"
   ]
  },
  {
   "cell_type": "code",
   "execution_count": 13,
   "id": "9da9fb47",
   "metadata": {},
   "outputs": [
    {
     "name": "stdout",
     "output_type": "stream",
     "text": [
      "Nhap so nguyen n tu ban phim: 10\n",
      "55\n"
     ]
    }
   ],
   "source": [
    "## iii.\tSử dụng while để tính tổng từ 0 cho tới n. Với n là số nguyên nhập từ bàn phím\n",
    "\n",
    "n = int(input(\"Nhap so nguyen n tu ban phim: \"))\n",
    "s = 0\n",
    "\n",
    "while n:\n",
    "    s+=n\n",
    "    n-=1\n",
    "    \n",
    "print(s)"
   ]
  },
  {
   "cell_type": "code",
   "execution_count": 14,
   "id": "b9387da0",
   "metadata": {},
   "outputs": [
    {
     "name": "stdout",
     "output_type": "stream",
     "text": [
      "Nhap mot so nguyen: 10\n",
      "Nhap mot so nguyen: 1\n",
      "Nhap mot so nguyen: 2\n",
      "Nhap mot so nguyen: -1\n",
      "Nhap mot so nguyen: 5\n",
      "Nhap mot so nguyen: 0\n",
      "17\n"
     ]
    }
   ],
   "source": [
    "## iv.\tTính tổng cộng dồn: Nhập vào từ bàn phím một số bất kỳ thì sẽ tính tổng cộng dồn của các lần nhập trước, bất kể là số âm hay số dương.\n",
    "\n",
    "l = []\n",
    "\n",
    "while 1:\n",
    "    s = int(input(\"Nhap mot so nguyen: \"))\n",
    "    if not s:\n",
    "        break\n",
    "    else:\n",
    "        l.append(s)\n",
    "        \n",
    "print(sum(l))"
   ]
  },
  {
   "cell_type": "code",
   "execution_count": null,
   "id": "7385ab33",
   "metadata": {},
   "outputs": [],
   "source": [
    "## v.\tTính tổng cộng dồn: Nhập vào từ bàn phím một số bất kỳ thì sẽ tính tổng cộng dồn của các lần nhập trước, bất kể là số âm hay số dương. Hãy thoát vòng lặp nếu nhập số “0”.\n",
    "\n",
    "while 1:\n",
    "    s = int(input(\"Nhap mot so nguyen: \"))\n",
    "    if not s:\n",
    "        break\n",
    "    else:\n",
    "        l.append(s)\n",
    "        \n",
    "print(sum(l))"
   ]
  },
  {
   "cell_type": "code",
   "execution_count": 15,
   "id": "03995984",
   "metadata": {},
   "outputs": [
    {
     "name": "stdout",
     "output_type": "stream",
     "text": [
      "Nhap so nguyen n tu ban phim: 10\n",
      "9\n",
      "7\n",
      "5\n",
      "3\n",
      "1\n"
     ]
    }
   ],
   "source": [
    "## vi.\tNhập vào từ bàn phím số nguyên n. Viết lệnh while để chỉ in những giá trị lẻ trong chuỗi từ 0 tới n.\n",
    "\n",
    "n = int(input(\"Nhap so nguyen n tu ban phim: \"))\n",
    "s = 0\n",
    "\n",
    "while n:\n",
    "    if n%2: print(n)\n",
    "    n-=1\n",
    "    "
   ]
  },
  {
   "cell_type": "code",
   "execution_count": 16,
   "id": "035ed209",
   "metadata": {},
   "outputs": [
    {
     "name": "stdout",
     "output_type": "stream",
     "text": [
      "Nhap so nguyen n tu ban phim: 10\n",
      "10\n",
      "8\n",
      "6\n",
      "4\n",
      "2\n"
     ]
    }
   ],
   "source": [
    "##vii.\tTạo ra một list rỗng và sau đó sử dụng lệnh while để đưa vào list những giá trị chẵn từ 1 tới 20\n",
    "\n",
    "n = int(input(\"Nhap so nguyen n tu ban phim: \"))\n",
    "s = 0\n",
    "\n",
    "while n:\n",
    "    if not n%2: print(n)\n",
    "    n-=1"
   ]
  },
  {
   "cell_type": "code",
   "execution_count": 17,
   "id": "1edb6c79",
   "metadata": {},
   "outputs": [
    {
     "name": "stdout",
     "output_type": "stream",
     "text": [
      "Nhap so nguyen n tu ban phim: 100\n",
      "100\n",
      "98\n",
      "96\n",
      "94\n",
      "92\n",
      "90\n",
      "88\n",
      "86\n",
      "84\n",
      "82\n",
      "80\n",
      "78\n",
      "76\n",
      "74\n",
      "72\n",
      "70\n",
      "68\n",
      "66\n",
      "64\n",
      "62\n",
      "60\n",
      "58\n",
      "56\n",
      "54\n",
      "52\n",
      "50\n",
      "48\n",
      "46\n",
      "44\n",
      "42\n",
      "40\n",
      "38\n",
      "36\n",
      "34\n",
      "32\n",
      "30\n",
      "28\n",
      "26\n",
      "24\n",
      "22\n"
     ]
    }
   ],
   "source": [
    "## viii.\tSử dụng cấu trúc while true để in những giá trị chẵn và nhỏ hơn 20.\n",
    "\n",
    "n = int(input(\"Nhap so nguyen n tu ban phim: \"))\n",
    "s = 0\n",
    "\n",
    "while n:\n",
    "    if not n%2 and n>20: print(n)\n",
    "    n-=1"
   ]
  },
  {
   "cell_type": "code",
   "execution_count": null,
   "id": "c04ad6b3",
   "metadata": {},
   "outputs": [],
   "source": [
    "## ix.\tÁp dụng while để tính tổng một list cho trước\n",
    "\n",
    "l = [1,2,100,-1,20,300, -100]\n",
    "lenn = len(l)\n",
    "s =0\n",
    "\n",
    "while lenn:\n",
    "    s +=l[lenn-1]\n",
    "    lenn -=1\n",
    "print(s)"
   ]
  },
  {
   "cell_type": "code",
   "execution_count": null,
   "id": "b5e72ab9",
   "metadata": {},
   "outputs": [],
   "source": [
    "## x.\tCho một đối tượng str = “alambda”. Áp dụng cấu trúc while continue để in những kỹ tự “a” trong chuỗi. \n",
    "\n",
    "str = \"alambda\"\n",
    "lenn = len(str)\n",
    "\n",
    "while lenn:\n",
    "    if str[lenn-1] == 'a':\n",
    "        print(\"a\",end=\"\")\n",
    "        lenn -=1\n",
    "    else:\n",
    "        print(\"-\",end=\"\")\n",
    "        lenn -=1\n",
    "        continue\n",
    "    "
   ]
  },
  {
   "cell_type": "code",
   "execution_count": null,
   "id": "59a7f1c3",
   "metadata": {},
   "outputs": [],
   "source": [
    "## xi.\tCho một list l = [2, 4, 5, 6], hãy nhập vào bàn phím một số bất kỳ. Nếu số đó trùng với một phần tử trong list thì break. Nếu số đó khác thì thêm vào trong list.\n",
    "x = int(input(\"Nhap mot so tu ban phim: \"))\n",
    "\n",
    "l = [2, 4, 5, 6]\n",
    "lenn = len(l)\n",
    "check = 1\n",
    "\n",
    "while lenn:\n",
    "    if l[lenn-1] == x:\n",
    "        checkk = 1\n",
    "        break\n",
    "    lenn-=1\n",
    "    \n",
    "if checkk == 0:\n",
    "    l.append(x)\n",
    "\n",
    "print(l)"
   ]
  },
  {
   "cell_type": "code",
   "execution_count": null,
   "id": "235e5db2",
   "metadata": {},
   "outputs": [],
   "source": [
    "## xii.\tGiải quyết bài toán trên bằng function. Tạo mộ hàm số gồm các đối số, các đối số này sẽ trở thành list. Sau đó nhập bất kỳ số nào từ bàn phím nếu số đó không trùng với argument của function thì nó được đưa vào list. \n",
    "\n",
    "# cách 1 dùng *arg nhung chua biết cách duyệt bằng while nên dùng tạm for\n",
    "\n",
    "def f(*args):\n",
    "    checkk = 0\n",
    "    l = []\n",
    "    x = int(input(\"nhap so nguyen: \"))\n",
    "    for i in args:\n",
    "        if x == i:\n",
    "            checkk = 1\n",
    "            break\n",
    "        else:\n",
    "            continue\n",
    "    \n",
    "    l = list(args)\n",
    "    if checkk ==0:\n",
    "        l.append(x)\n",
    "    \n",
    "    print(l)\n",
    "\n",
    "f(1,2,3,4,5)\n",
    "\n",
    "# cách 2 "
   ]
  },
  {
   "cell_type": "code",
   "execution_count": null,
   "id": "79ab53a1",
   "metadata": {},
   "outputs": [],
   "source": [
    "## xiii.\t(hơi khó) Hãy dùng bàn phím. Mỗi lần nhập đúng chữ “Y” thì sẽ hiện lên thông báo: “Bạn đã nhập đúng i lần chữ Y” (mỗi lần nhập đúng cộng 1 lần). Nếu nhập chữ “N” thì sẽ hiện thông báo “Bạn sẽ thoát chương trình”. Nếu nhập khác chữ Y và N thì thì sẽ hiện thông báo “Ký tự  được nhập: Đây không phải là lựa chọn đúng” nhưng chương trình không thoát\n",
    "\n",
    "\n",
    "l = 0\n",
    "\n",
    "while 1:\n",
    "    s = input(\"Nhap: \")\n",
    "    if s == 'Y':\n",
    "        l +=1\n",
    "        print(f\"Ban da nhap dung {l} lan chu Y\")\n",
    "    elif s == 'N':\n",
    "        print(\"Ban se thoat chuong trinh\")\n",
    "        break\n",
    "    else:\n",
    "        print(\"Ki tu duoc nhap: day khong phai lua chon dung\")"
   ]
  }
 ],
 "metadata": {
  "kernelspec": {
   "display_name": "Python 3",
   "language": "python",
   "name": "python3"
  },
  "language_info": {
   "codemirror_mode": {
    "name": "ipython",
    "version": 3
   },
   "file_extension": ".py",
   "mimetype": "text/x-python",
   "name": "python",
   "nbconvert_exporter": "python",
   "pygments_lexer": "ipython3",
   "version": "3.8.11"
  }
 },
 "nbformat": 4,
 "nbformat_minor": 5
}
