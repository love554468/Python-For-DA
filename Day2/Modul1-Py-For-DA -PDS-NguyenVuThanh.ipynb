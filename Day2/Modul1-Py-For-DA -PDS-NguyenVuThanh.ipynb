{
 "cells": [
  {
   "cell_type": "markdown",
   "id": "c8514d99",
   "metadata": {},
   "source": [
    "Update: 8h55 am, ngày 16/3/22 , Day1 For DSA apply DA\n",
    "\n",
    "Update: 9h08 am, ngày 17/3/22 , Day2 For DSA apply DA\n",
    "\n",
    "### CẤU TRÚC DỮ DIỆU GIẢI THUẬT - ÁP DỤNG HƯỚNG PHÂN TÍCH DỮ LIỆU DA\n",
    "\n",
    "- 21 VIDEO\n",
    "- MỖI VIDEO TRUNG BÌNH 1H30P\n",
    "\n",
    "====================\n",
    "\n",
    "- video 1 (cấu trúc dữ liệu):  Object, Class, Variable, Value, Data\n",
    "- video 2 (cấu trúc dữ liệu): Oject Mutability, Premitive-NonPremitive, Sequential-NonSequential\n",
    "- video 3 (cấu trúc dữ liệu): Phân loại Built-in Data types (tiếp cận hệ thống nhất)\n",
    "- video 4: R-python-PowerBi hiểu biết dữ liệu\n",
    "- video 5: if-elif-else và các chú ý đặc biệt dùng else trong nhiều tình huống\n",
    "- video 6: Luyện tập if-elif-else (kết hợp for): Định hướng phân tích dữ liệu\n",
    "- video 7: While (While loop)\n",
    "- Video 8.1: For loop và nested for loop\n",
    "- video 8.2: For loop (break-continue-else) List comprehension, nested list comprehension, dict comprehension\n",
    "- video 9.1: Function: một số kiến thức căn bản\n",
    "- video 9.2: function kiến thức về \\*args - Phần 1\n",
    "- video 9.3: function kiến thức về \\*args - Phần 2\n",
    "- video 9.4: function kiến thức về \\*star\n",
    "- video 9.5: function kiến thức về \\*kwargs. Kết hợp \\*args-\\*\\*kwargs\n",
    "- video 9.6: luyện tập \\*args và \\*\\*kwargs (#)\n",
    "- video 9.7: function: Lambda expression\n",
    "- video 9.8: function: Map function, Map vs. List comprehension\n",
    "- video 9.9: function:filter, kết hợp filter và map\n",
    "- video 9.10: function: reduce\n",
    "- video 9.11: function: Scopes, built-in scope, global scope, closure scope, local scope, cloure: Free varibles - Cells -Nested cloures\n",
    "\n",
    "\n"
   ]
  },
  {
   "cell_type": "markdown",
   "id": "2cef32b5",
   "metadata": {},
   "source": [
    "## video 1 (cấu trúc dữ liệu): Object, Class, Variable, Value, Data\n",
    "\n",
    "1. Các loại class\n",
    "2. Namespace\n",
    "3. Các thang đo lường\n",
    "4. Hiểu về 1 giao dịch\n",
    "5. Khác\n",
    "\n",
    "(#) Các loại class\n",
    "- class built in: vd int, string, float\n",
    "- class user define\n",
    "\n",
    "(#) Namespace:\n",
    "\n",
    "Định nghĩa: (theo real python) Namespaces in Python. A namespace is a collection of currently defined symbolic names along with information about the object that each name references. You can think of a namespace as a dictionary in which the keys are the object names and the values are the objects themselves.\n",
    "\n",
    "Namespace trong python là một collection của các kí hiệu tên hiện tại được xác định với thông tin về đối tượng và mỗi thông tin của tên này trỏ tới. Bạn có thể hiểu về namespace như một từ điển với khoá là các tên đối tượng và giá trị là các các đối tượng của chúng\n",
    "(https://realpython.com/python-namespaces-scope/#:~:text=the%20next%20level.-,Namespaces%20in%20Python,values%20are%20the%20objects%20themselves.)\n",
    "\n",
    "a =3\n",
    "b =a\n",
    "6\n",
    "\n",
    "Thì 6 không nằm trong namespace\n",
    "\n",
    "(#) Các thang đo đo lường\n",
    "\n",
    "- 4 levels of Measure: Nominal -> ordinal -> interval -> radio\n",
    "- có chia làm 2 loại định tính và định lượng\n",
    "    - định tính: nomial, ordinal\n",
    "    - định lượng: interval, radio\n",
    "- Doc them: https://www.statisticssolutions.com/dissertation-resources/descriptive-statistics/data-levels-of-measurement/#:~:text=A%20variable%20has%20one%20of,sometimes%20called%20Continuous%20or%20Scale)\n",
    "\n",
    "(#) Hiểu về 1 giao dịch\n",
    "\n",
    "- Cần phải hiểu thế nào là một giao dịch: một giao dịch thể hiện 1 hoạt động mua bán hoặc trao đổi hàng hoá, giao dịch sẽ gồm có nhiều thông tin về hoá đơn (orderID), khách hàng(customerID), sản phẩm(productID)\n",
    "- Các thông tin về hoá đơn , khách hàng, sản phẩm được hệ thống hoá theo quy trình nghiệp vụ nên ta phải hiểu rõ chi tiết\n",
    "\n",
    "\n",
    "- Có đặt ra và trả lời một số câu hỏi sau:\n",
    "    - 1 order Id có 1 khách hàng ?\n",
    "    - 1 khách hàng mua 2 lần trong ngày ?\n",
    "    - 1 Ngày 1 khách hàng chỉ có 1 giao dịch => có phù hợp với thực tế giao dịch không? (giao dịch theo ngày)\n",
    "    - Giao dịch giống nhau => cộng dồn lại và ghi nhận 1 giao dịch thôi được k ?\n",
    "\n",
    "    - 1 Đơn hàng = 1 giao dịch -> 1 khách hàng đúng k?\n",
    "\n",
    "(#) Khác\n",
    "\n",
    "dir(str) # những đối tượng thuộc lớp string"
   ]
  },
  {
   "cell_type": "code",
   "execution_count": 4,
   "id": "06ed7440",
   "metadata": {},
   "outputs": [
    {
     "data": {
      "text/plain": [
       "['__add__', '__class__', '__contains__', '__delattr__', '__dir__']"
      ]
     },
     "execution_count": 4,
     "metadata": {},
     "output_type": "execute_result"
    }
   ],
   "source": [
    "dir(str)[:5]"
   ]
  },
  {
   "cell_type": "markdown",
   "id": "73b6da0e",
   "metadata": {},
   "source": [
    "## video 2 (cấu trúc dữ liệu): Oject Mutability, Premitive-NonPremitive, Sequential-NonSequential\n",
    "\n",
    "1. Phân loại kiểu dữ liệu\n",
    "    - cách 1: Number, collection, container\n",
    "    - cách 2: Squence: ordered (linear), indexed, sliced\n",
    "2. Trong 1 set có thể có kiểu dữ liệu mutable không?\n",
    "3. Thế nào là giá trị, dữ liệu?\n",
    "\n",
    "(#) Phân loại kiểu dữ liệu\n",
    "- cách 1: number, collection, container\n",
    "    - number: int, float, bool\n",
    "    - container: list, tuple, dict, set, frozen_set\n",
    "    ...\n",
    "- cách 2: Sequence ordered, indexed, sliced\n",
    "\n",
    "(#) Trong 1 set không thể có dữ liệu mutable(có thể thay đổi)\n",
    "\n",
    "vd: \n",
    "{1, 2, \"aaa\", [1,2,55]} => saii\n",
    "\n",
    "Vì set nó là kiểu dữ liệu unmutable\n",
    "\n",
    "(#) Giá trị, dữ liệu\n",
    "- value: thường là 1 giá trị: 1, True, None, 'Hello'\n",
    "- data là một list giá trị: tuple, list,.."
   ]
  },
  {
   "cell_type": "markdown",
   "id": "99a34111",
   "metadata": {},
   "source": [
    "## video 3 (cấu trúc dữ liệu): Phân loại Built-in Data types (tiếp cận hệ thống nhất)\n",
    "\n",
    "1. Object mutability: mutable and immutable\n",
    "2. phân loại built-in class theo primitive và nonprimitive\n",
    "3. sequence and nonsequence\n",
    "\n",
    "(#) Object mutability: mutable and immutable\n",
    "- mutable: địa chỉ không thay đổi nhưng giá trị có thể thay đổi\n",
    "- immutable: địa chỉ và giá trị không thay đổi\n",
    "\n",
    "(#) phân loại built-in class theo primitive và nonprimitive\n",
    "- built in class in python: int, float, str, bool, list, set, dict, tuple, frozenset\n",
    "- Từ các class built in ta phân loại theo class built in nguyên thuỷ và không nguyên thuỷ tương ứng:\n",
    "    - primitive: float, int, boolean, str\n",
    "    - nonpremitive: list, dict, set\n",
    "\n",
    "(#) sequence and nonsequence\n",
    "- sequential oject: là các collection có thể sắp xếp theo thứ tự và có chỉ mục\n",
    "- nonsequential object: không sắp theo thứ tự và không có chỉ mục"
   ]
  },
  {
   "cell_type": "markdown",
   "id": "92518003",
   "metadata": {},
   "source": [
    "## video 4: R-python-PowerBi hiểu biết dữ liệu\n",
    "\n",
    "Không phải bộ dữ liệu nào cũng cắm đầu vào xem mà cần phải cực kì hiểu dữ liệu\n",
    "\n",
    "Xem các mô tả về dữ liệu: dữ liệu thuộc loại dtype nào, thuộc thang đo lường nào?\n",
    "\n",
    "Biến định tính có sài giá trị trung bình được không?\n",
    "\n",
    "Không: giá trị trung bình nhiều khi còn không sài được nếu xuất hiện outlier mà phải dùng trung vị (tiền lương chẳng hạn)\n",
    "\n",
    "**Tham khảo tại file notebook : day3 Kết hợp powerBI và R python để phân tích.txt:** (lưu ý tí nữa tôi sẽ comment thêm file này phần bài tập)\n",
    "- load dữ liệu -> mô tả dữ liệu (weight, height: định lượng; name, gender: định tính)\n",
    "- quan sát dữ liệu: df. head, df. infor\n",
    "- quan sát xu hướng dữ liệu\n",
    "- Một số bài tập: về pandas để giải quyết nhanh lấy dữ liệu, thông tin dữ liệu\n",
    "- Quan sát dữ liệu bằng lib: pandas_profilling: đã cài và thử nghiệm thành công với bài tập trên datagottalent"
   ]
  },
  {
   "cell_type": "markdown",
   "id": "dd673a47",
   "metadata": {},
   "source": [
    "## video 5: if-elif-else và các chú ý đặc biệt dùng else trong nhiều tình huống\n",
    "\n",
    "(comment thêm)\n",
    "import os\n",
    "\n",
    "os.listdir()\n",
    "\n",
    "type(os.listdir())\n",
    "\n",
    "for csv in os.listdir():\n",
    "\tif \"csv\" in csv:\n",
    "\t\tprint(csv)"
   ]
  },
  {
   "cell_type": "markdown",
   "id": "3ede5cb0",
   "metadata": {},
   "source": [
    "## video 6: Luyện tập if-elif-else (kết hợp for): Định hướng phân tích dữ liệu\n"
   ]
  },
  {
   "cell_type": "markdown",
   "id": "a10540d0",
   "metadata": {},
   "source": []
  },
  {
   "cell_type": "markdown",
   "id": "6e5ce93f",
   "metadata": {},
   "source": []
  },
  {
   "cell_type": "markdown",
   "id": "4c058642",
   "metadata": {},
   "source": []
  },
  {
   "cell_type": "markdown",
   "id": "d75f3cab",
   "metadata": {},
   "source": []
  },
  {
   "cell_type": "markdown",
   "id": "1fe757c6",
   "metadata": {},
   "source": [
    "## video 9.1: Function: một số kiến thức căn bản\n",
    "Nói về scope - namespace separation \n",
    "Tức là nói về cách dùng tham chiếu tham trị, biến gobal, local\n",
    "**Xem thêm ở file notebook function**\n",
    "\n",
    "## video 9.2: function kiến thức về *args - Phần 1\n",
    "*args : nói về cách truyền tham số tối ưu\n",
    "**xem thêm ở file: star agrgument in function**\n"
   ]
  },
  {
   "cell_type": "markdown",
   "id": "b106a8ed",
   "metadata": {},
   "source": []
  },
  {
   "cell_type": "markdown",
   "id": "a247e0e7",
   "metadata": {},
   "source": []
  },
  {
   "cell_type": "markdown",
   "id": "5920fdc0",
   "metadata": {},
   "source": []
  },
  {
   "cell_type": "markdown",
   "id": "c8c06277",
   "metadata": {},
   "source": []
  },
  {
   "cell_type": "markdown",
   "id": "25976ba6",
   "metadata": {},
   "source": [
    "## video 9.7: function: Lambda expression\n",
    "\n",
    "1. Format\n",
    "2. Call the result : assgin lambda to a variable\n",
    "3. Call the result: use lambda as an agrument in function\n",
    "4. lambda in a sorted()\n",
    "\n",
    "\n",
    "- Anonymous function: hàm vô danh\n",
    "- Single list of code: một dòng code\n",
    "\n",
    "**(#) Format**"
   ]
  },
  {
   "cell_type": "code",
   "execution_count": 5,
   "id": "e9241606",
   "metadata": {},
   "outputs": [
    {
     "data": {
      "text/plain": [
       "<function __main__.<lambda>(x, y)>"
      ]
     },
     "execution_count": 5,
     "metadata": {},
     "output_type": "execute_result"
    }
   ],
   "source": [
    "lambda x, y: x+y\n"
   ]
  },
  {
   "cell_type": "markdown",
   "id": "af522ac3",
   "metadata": {},
   "source": [
    "<function \\_\\_main\\_\\_.<lambda>(x, y)>\n",
    "\n",
    ".\\< lambda \\> vô danh"
   ]
  },
  {
   "cell_type": "code",
   "execution_count": 6,
   "id": "d9c4e738",
   "metadata": {},
   "outputs": [
    {
     "data": {
      "text/plain": [
       "<function __main__.f(x, y)>"
      ]
     },
     "execution_count": 6,
     "metadata": {},
     "output_type": "execute_result"
    }
   ],
   "source": [
    "def f(x,y):\n",
    "    return x+y\n",
    "\n",
    "f"
   ]
  },
  {
   "cell_type": "markdown",
   "id": "1661a4b5",
   "metadata": {},
   "source": [
    "rõ ràng hàm f có tên"
   ]
  },
  {
   "cell_type": "markdown",
   "id": "8a5a7cb5",
   "metadata": {},
   "source": [
    "**(#) Call the result: assign lambda to a variable**"
   ]
  },
  {
   "cell_type": "code",
   "execution_count": 7,
   "id": "67b7a5f1",
   "metadata": {},
   "outputs": [
    {
     "data": {
      "text/plain": [
       "3"
      ]
     },
     "execution_count": 7,
     "metadata": {},
     "output_type": "execute_result"
    }
   ],
   "source": [
    "f_lambda = lambda x, y: x+y\n",
    "\n",
    "f_lambda(1, 2)"
   ]
  },
  {
   "cell_type": "markdown",
   "id": "8d5599b9",
   "metadata": {},
   "source": [
    "**(#) Call the result: use lambda as an agrument in function**"
   ]
  },
  {
   "cell_type": "code",
   "execution_count": 9,
   "id": "18278f45",
   "metadata": {},
   "outputs": [],
   "source": [
    "sq = lambda x: x ** 2"
   ]
  },
  {
   "cell_type": "code",
   "execution_count": 10,
   "id": "0d3cd2f0",
   "metadata": {},
   "outputs": [],
   "source": [
    "def apply(fn, x):\n",
    "    return fn(x)"
   ]
  },
  {
   "cell_type": "code",
   "execution_count": 11,
   "id": "5dc38676",
   "metadata": {},
   "outputs": [
    {
     "data": {
      "text/plain": [
       "25"
      ]
     },
     "execution_count": 11,
     "metadata": {},
     "output_type": "execute_result"
    }
   ],
   "source": [
    "apply(sq, 5)"
   ]
  },
  {
   "cell_type": "code",
   "execution_count": 12,
   "id": "8ae9a247",
   "metadata": {},
   "outputs": [
    {
     "data": {
      "text/plain": [
       "27"
      ]
     },
     "execution_count": 12,
     "metadata": {},
     "output_type": "execute_result"
    }
   ],
   "source": [
    "apply(lambda x: x**3, 3)"
   ]
  },
  {
   "cell_type": "code",
   "execution_count": 13,
   "id": "32f2ba38",
   "metadata": {},
   "outputs": [
    {
     "data": {
      "text/plain": [
       "10"
      ]
     },
     "execution_count": 13,
     "metadata": {},
     "output_type": "execute_result"
    }
   ],
   "source": [
    "sum_f = lambda *arg: sum(arg)\n",
    "\n",
    "sum_f(1,2,3,4)"
   ]
  },
  {
   "cell_type": "code",
   "execution_count": 14,
   "id": "4d457153",
   "metadata": {},
   "outputs": [
    {
     "data": {
      "text/plain": [
       "15"
      ]
     },
     "execution_count": 14,
     "metadata": {},
     "output_type": "execute_result"
    }
   ],
   "source": [
    "def apply(fn, *arg):\n",
    "    return fn(*arg) # nó vẫn là function nên cần lấy các vị trí\n",
    "\n",
    "apply(sum_f, 1,2,3,4,5)"
   ]
  },
  {
   "cell_type": "code",
   "execution_count": 16,
   "id": "7dc43159",
   "metadata": {},
   "outputs": [
    {
     "data": {
      "text/plain": [
       "15"
      ]
     },
     "execution_count": 16,
     "metadata": {},
     "output_type": "execute_result"
    }
   ],
   "source": [
    "apply(lambda *arg: sum(arg), 1,2,3,4,5)"
   ]
  },
  {
   "cell_type": "code",
   "execution_count": 17,
   "id": "01f24eb1",
   "metadata": {},
   "outputs": [],
   "source": [
    "def apply(*args, fn):\n",
    "    return fn(*args)"
   ]
  },
  {
   "cell_type": "code",
   "execution_count": 19,
   "id": "f57ec9d4",
   "metadata": {},
   "outputs": [
    {
     "data": {
      "text/plain": [
       "15"
      ]
     },
     "execution_count": 19,
     "metadata": {},
     "output_type": "execute_result"
    }
   ],
   "source": [
    "apply(1,2,3,4,5 ,fn = sum_f) # sau *args cần keywords argument"
   ]
  },
  {
   "cell_type": "code",
   "execution_count": 20,
   "id": "c6f6f168",
   "metadata": {},
   "outputs": [],
   "source": [
    "def sum_f(*args):\n",
    "    s = 0\n",
    "    for i in args:\n",
    "        s+=i\n",
    "    return s"
   ]
  },
  {
   "cell_type": "code",
   "execution_count": 23,
   "id": "c1e85b38",
   "metadata": {},
   "outputs": [],
   "source": [
    "sum_lambda = lambda *arg: sum_f(*arg)\n",
    "\n",
    "def apply(fn, *args):\n",
    "    return fn(*args)"
   ]
  },
  {
   "cell_type": "code",
   "execution_count": 24,
   "id": "0d088e18",
   "metadata": {},
   "outputs": [
    {
     "data": {
      "text/plain": [
       "15"
      ]
     },
     "execution_count": 24,
     "metadata": {},
     "output_type": "execute_result"
    }
   ],
   "source": [
    "apply(sum_lambda, 1,2,3,4,5)"
   ]
  },
  {
   "cell_type": "code",
   "execution_count": 26,
   "id": "11aeff1f",
   "metadata": {},
   "outputs": [
    {
     "data": {
      "text/plain": [
       "15"
      ]
     },
     "execution_count": 26,
     "metadata": {},
     "output_type": "execute_result"
    }
   ],
   "source": [
    "#* vừa có nghĩa là unpack vừa có nghĩa là lấy địa chỉ\n",
    "apply(sum_lambda, *[1,2,3,4,5])"
   ]
  },
  {
   "cell_type": "code",
   "execution_count": 30,
   "id": "356dae00",
   "metadata": {},
   "outputs": [],
   "source": [
    "# star arg và star starr kwargs\n",
    "\n",
    "def apply(fn, *args, **kwargs):\n",
    "    return fn(*args, **kwargs)"
   ]
  },
  {
   "cell_type": "code",
   "execution_count": 31,
   "id": "e2fb2cec",
   "metadata": {},
   "outputs": [
    {
     "data": {
      "text/plain": [
       "3"
      ]
     },
     "execution_count": 31,
     "metadata": {},
     "output_type": "execute_result"
    }
   ],
   "source": [
    "apply(lambda a, *, b: a+b, a = 2, b=1)\n",
    "# return a+b, hàm lambda a, * kết thúc positional, thì sau b:a+b phải là keyword agument"
   ]
  },
  {
   "cell_type": "code",
   "execution_count": 32,
   "id": "0924cb5f",
   "metadata": {},
   "outputs": [
    {
     "data": {
      "text/plain": [
       "3"
      ]
     },
     "execution_count": 32,
     "metadata": {},
     "output_type": "execute_result"
    }
   ],
   "source": [
    "apply(lambda a, b: a+b, 1,2)"
   ]
  },
  {
   "cell_type": "markdown",
   "id": "98e1e9ba",
   "metadata": {},
   "source": [
    "**(#) Lambda in a sorted()**"
   ]
  },
  {
   "cell_type": "code",
   "execution_count": 33,
   "id": "2ed4fbbb",
   "metadata": {},
   "outputs": [
    {
     "name": "stdout",
     "output_type": "stream",
     "text": [
      "Help on built-in function sorted in module builtins:\n",
      "\n",
      "sorted(iterable, /, *, key=None, reverse=False)\n",
      "    Return a new list containing all items from the iterable in ascending order.\n",
      "    \n",
      "    A custom key function can be supplied to customize the sort order, and the\n",
      "    reverse flag can be set to request the result in descending order.\n",
      "\n"
     ]
    }
   ],
   "source": [
    "help(sorted)"
   ]
  },
  {
   "cell_type": "markdown",
   "id": "70f28abe",
   "metadata": {},
   "source": [
    "**Giải thích**\n",
    "\n",
    "sorted nhận 1 iterable, key= none là key agrument\n",
    "\n",
    "A custom key functon: key argument là một function => Nó sẽ giúp sort thay đổi kết quả sort, kiểu sort theo function"
   ]
  },
  {
   "cell_type": "code",
   "execution_count": 34,
   "id": "fe78c29c",
   "metadata": {},
   "outputs": [
    {
     "data": {
      "text/plain": [
       "['H', 'e', 'h', 'l', 'l', 'o']"
      ]
     },
     "execution_count": 34,
     "metadata": {},
     "output_type": "execute_result"
    }
   ],
   "source": [
    "str = 'hHello'\n",
    "sorted(str)"
   ]
  },
  {
   "cell_type": "code",
   "execution_count": 39,
   "id": "64468849",
   "metadata": {},
   "outputs": [
    {
     "data": {
      "text/plain": [
       "[1, 2, 3, 4, 5, 6, 7, 8, 9]"
      ]
     },
     "execution_count": 39,
     "metadata": {},
     "output_type": "execute_result"
    }
   ],
   "source": [
    "l = [i for i in range(1,10)]\n",
    "l"
   ]
  },
  {
   "attachments": {
    "image-2.png": {
     "image/png": "[encoded data removed]"
    }
   },
   "cell_type": "markdown",
   "id": "f62ee4a4",
   "metadata": {},
   "source": [
    "![image-2.png](attachment:image-2.png)"
   ]
  },
  {
   "cell_type": "markdown",
   "id": "9d2d7861",
   "metadata": {},
   "source": [
    "* -> kết thúc positional argument\n",
    "\n",
    "nhập l.sort(123) nó sẽ hiểu là pos arg"
   ]
  },
  {
   "cell_type": "code",
   "execution_count": 43,
   "id": "4a395977",
   "metadata": {},
   "outputs": [
    {
     "data": {
      "text/plain": [
       "[9, 8, 7, 6, 5, 4, 3, 2, 1]"
      ]
     },
     "execution_count": 43,
     "metadata": {},
     "output_type": "execute_result"
    }
   ],
   "source": [
    "(l.sort(reverse=True))\n",
    "l"
   ]
  },
  {
   "cell_type": "code",
   "execution_count": 51,
   "id": "4cc27c46",
   "metadata": {},
   "outputs": [
    {
     "data": {
      "text/plain": [
       "[5, 4, 3, 2, 2, 1, 1]"
      ]
     },
     "execution_count": 51,
     "metadata": {},
     "output_type": "execute_result"
    }
   ],
   "source": [
    "(l.sort(key = lambda i: -i))\n",
    "l"
   ]
  },
  {
   "cell_type": "code",
   "execution_count": 52,
   "id": "db2e7cf5",
   "metadata": {},
   "outputs": [
    {
     "ename": "TypeError",
     "evalue": "sort() takes no positional arguments",
     "output_type": "error",
     "traceback": [
      "\u001b[1;31m---------------------------------------------------------------------------\u001b[0m",
      "\u001b[1;31mTypeError\u001b[0m                                 Traceback (most recent call last)",
      "\u001b[1;32m<ipython-input-52-e213e357d729>\u001b[0m in \u001b[0;36m<module>\u001b[1;34m\u001b[0m\n\u001b[1;32m----> 1\u001b[1;33m \u001b[1;33m(\u001b[0m\u001b[0ml\u001b[0m\u001b[1;33m.\u001b[0m\u001b[0msort\u001b[0m\u001b[1;33m(\u001b[0m\u001b[1;32mlambda\u001b[0m \u001b[0mi\u001b[0m\u001b[1;33m:\u001b[0m \u001b[1;33m-\u001b[0m\u001b[0mi\u001b[0m\u001b[1;33m)\u001b[0m\u001b[1;33m)\u001b[0m\u001b[1;33m\u001b[0m\u001b[1;33m\u001b[0m\u001b[0m\n\u001b[0m\u001b[0;32m      2\u001b[0m \u001b[0ml\u001b[0m\u001b[1;33m\u001b[0m\u001b[1;33m\u001b[0m\u001b[0m\n",
      "\u001b[1;31mTypeError\u001b[0m: sort() takes no positional arguments"
     ]
    }
   ],
   "source": [
    "(l.sort(lambda i: -i))\n",
    "l"
   ]
  },
  {
   "cell_type": "code",
   "execution_count": 44,
   "id": "5b1ea730",
   "metadata": {},
   "outputs": [
    {
     "data": {
      "text/plain": [
       "[1, 1, 2, 2, 3, 4, 5]"
      ]
     },
     "execution_count": 44,
     "metadata": {},
     "output_type": "execute_result"
    }
   ],
   "source": [
    "l = [1,2,4,2,3,1,5]\n",
    "sorted(l, key = lambda i: i)"
   ]
  },
  {
   "cell_type": "code",
   "execution_count": 45,
   "id": "e725bebe",
   "metadata": {},
   "outputs": [
    {
     "data": {
      "text/plain": [
       "[5, 4, 3, 2, 2, 1, 1]"
      ]
     },
     "execution_count": 45,
     "metadata": {},
     "output_type": "execute_result"
    }
   ],
   "source": [
    "l = [1,2,4,2,3,1,5]\n",
    "sorted(l, key = lambda i: -i)"
   ]
  },
  {
   "cell_type": "code",
   "execution_count": 47,
   "id": "b9f3cb58",
   "metadata": {},
   "outputs": [
    {
     "data": {
      "text/plain": [
       "0.8568388748604306"
      ]
     },
     "execution_count": 47,
     "metadata": {},
     "output_type": "execute_result"
    }
   ],
   "source": [
    "# sort ngẫu nhiên\n",
    "\n",
    "import random as r\n",
    "\n",
    "r.random()"
   ]
  },
  {
   "cell_type": "code",
   "execution_count": 49,
   "id": "f0ad88f8",
   "metadata": {},
   "outputs": [
    {
     "name": "stdout",
     "output_type": "stream",
     "text": [
      "[1, 2, 4, 2, 3, 1, 5]\n"
     ]
    },
    {
     "data": {
      "text/plain": [
       "[3, 2, 5, 2, 4, 1, 1]"
      ]
     },
     "execution_count": 49,
     "metadata": {},
     "output_type": "execute_result"
    }
   ],
   "source": [
    "print(l)\n",
    "\n",
    "sorted(l, key = lambda i: r.random())"
   ]
  },
  {
   "cell_type": "code",
   "execution_count": 50,
   "id": "c8ac1fa2",
   "metadata": {},
   "outputs": [
    {
     "name": "stdout",
     "output_type": "stream",
     "text": [
      "[1, 2, 4, 2, 3, 1, 5]\n"
     ]
    },
    {
     "data": {
      "text/plain": [
       "[2, 4, 2, 1, 3, 5, 1]"
      ]
     },
     "execution_count": 50,
     "metadata": {},
     "output_type": "execute_result"
    }
   ],
   "source": [
    "print(l)\n",
    "\n",
    "sorted(l, key = lambda i: r.random())"
   ]
  },
  {
   "cell_type": "markdown",
   "id": "c49bbb46",
   "metadata": {},
   "source": [
    "## video 9.8: function: Map function, Map vs. List comprehension\n",
    "\n",
    "1. Generator expression\n",
    "2. Map\n",
    "    1. Started with simple functions\n",
    "    2. Map function\n",
    "    3. Map vs. list comprehension"
   ]
  },
  {
   "cell_type": "markdown",
   "id": "4d20666c",
   "metadata": {},
   "source": [
    "**(#) Generator expression**\n",
    "\n",
    "+ Lambda function: anonymous function\n",
    "+ Generator expression creates anonymous function"
   ]
  },
  {
   "cell_type": "code",
   "execution_count": 1,
   "id": "22d2a14b",
   "metadata": {},
   "outputs": [
    {
     "data": {
      "text/plain": [
       "[1, 4, 9, 16, 25, 36, 49, 64, 81, 100]"
      ]
     },
     "execution_count": 1,
     "metadata": {},
     "output_type": "execute_result"
    }
   ],
   "source": [
    "# list comprehension\n",
    "sq = [i*i for i in range(1, 11)]\n",
    "sq"
   ]
  },
  {
   "cell_type": "code",
   "execution_count": 2,
   "id": "e120e794",
   "metadata": {},
   "outputs": [],
   "source": [
    "# generator expression\n",
    "sq_generator = (i*i for i in range(1, 11))"
   ]
  },
  {
   "cell_type": "code",
   "execution_count": 4,
   "id": "6b087125",
   "metadata": {},
   "outputs": [
    {
     "data": {
      "text/plain": [
       "generator"
      ]
     },
     "execution_count": 4,
     "metadata": {},
     "output_type": "execute_result"
    }
   ],
   "source": [
    "type(sq_generator)"
   ]
  },
  {
   "cell_type": "code",
   "execution_count": 5,
   "id": "5f845cd0",
   "metadata": {},
   "outputs": [
    {
     "name": "stdout",
     "output_type": "stream",
     "text": [
      "<generator object <genexpr> at 0x0000028644659120>\n"
     ]
    }
   ],
   "source": [
    "print(sq_generator)"
   ]
  },
  {
   "cell_type": "code",
   "execution_count": 6,
   "id": "cf21bd94",
   "metadata": {},
   "outputs": [
    {
     "name": "stdout",
     "output_type": "stream",
     "text": [
      "1\n",
      "4\n",
      "9\n",
      "16\n",
      "25\n",
      "36\n",
      "49\n",
      "64\n",
      "81\n",
      "100\n"
     ]
    }
   ],
   "source": [
    "for i in sq_generator:\n",
    "    print(i)"
   ]
  },
  {
   "cell_type": "code",
   "execution_count": 8,
   "id": "a33ce015",
   "metadata": {},
   "outputs": [],
   "source": [
    "for i in sq_generator:\n",
    "    print(i)\n",
    "# không tái sử dụng được nữa"
   ]
  },
  {
   "cell_type": "code",
   "execution_count": 10,
   "id": "ee52c886",
   "metadata": {},
   "outputs": [
    {
     "data": {
      "text/plain": [
       "[1, 4, 9, 16, 25, 36, 49, 64, 81, 100]"
      ]
     },
     "execution_count": 10,
     "metadata": {},
     "output_type": "execute_result"
    }
   ],
   "source": [
    "# APlly list() to reuse the results from generator\n",
    "# Thằng map kết quả là 1 generator\n",
    "sq_generator = (i*i for i in range(1, 11))\n",
    "sq_list = list(sq_generator)\n",
    "sq_list"
   ]
  },
  {
   "cell_type": "code",
   "execution_count": 11,
   "id": "b660376c",
   "metadata": {},
   "outputs": [
    {
     "data": {
      "text/plain": [
       "[1, 4, 9, 16, 25, 36, 49, 64, 81, 100]"
      ]
     },
     "execution_count": 11,
     "metadata": {},
     "output_type": "execute_result"
    }
   ],
   "source": [
    "sq_list"
   ]
  },
  {
   "cell_type": "markdown",
   "id": "fbfd428a",
   "metadata": {},
   "source": [
    "**(#) Map**\n"
   ]
  },
  {
   "cell_type": "code",
   "execution_count": 12,
   "id": "45830b0d",
   "metadata": {},
   "outputs": [
    {
     "name": "stdout",
     "output_type": "stream",
     "text": [
      "Help on class map in module builtins:\n",
      "\n",
      "class map(object)\n",
      " |  map(func, *iterables) --> map object\n",
      " |  \n",
      " |  Make an iterator that computes the function using arguments from\n",
      " |  each of the iterables.  Stops when the shortest iterable is exhausted.\n",
      " |  \n",
      " |  Methods defined here:\n",
      " |  \n",
      " |  __getattribute__(self, name, /)\n",
      " |      Return getattr(self, name).\n",
      " |  \n",
      " |  __iter__(self, /)\n",
      " |      Implement iter(self).\n",
      " |  \n",
      " |  __next__(self, /)\n",
      " |      Implement next(self).\n",
      " |  \n",
      " |  __reduce__(...)\n",
      " |      Return state information for pickling.\n",
      " |  \n",
      " |  ----------------------------------------------------------------------\n",
      " |  Static methods defined here:\n",
      " |  \n",
      " |  __new__(*args, **kwargs) from builtins.type\n",
      " |      Create and return a new object.  See help(type) for accurate signature.\n",
      "\n"
     ]
    }
   ],
   "source": [
    "help(map)"
   ]
  },
  {
   "cell_type": "markdown",
   "id": "afc5c59d",
   "metadata": {},
   "source": [
    "**(#) Started with simple functions**\n"
   ]
  },
  {
   "cell_type": "code",
   "execution_count": 13,
   "id": "4428171d",
   "metadata": {},
   "outputs": [],
   "source": [
    "def apply(fn, *args, **kwargs):\n",
    "    return fn(*args, **kwargs)"
   ]
  },
  {
   "cell_type": "code",
   "execution_count": 16,
   "id": "d5ea0b92",
   "metadata": {},
   "outputs": [],
   "source": [
    "def f_sum(*args):\n",
    "    sum_ = 0\n",
    "    for i in args:\n",
    "        sum_ +=i\n",
    "    return sum_"
   ]
  },
  {
   "cell_type": "code",
   "execution_count": 17,
   "id": "9aef47b7",
   "metadata": {},
   "outputs": [
    {
     "data": {
      "text/plain": [
       "15"
      ]
     },
     "execution_count": 17,
     "metadata": {},
     "output_type": "execute_result"
    }
   ],
   "source": [
    "apply(f_sum, 1,2,3,4,5)"
   ]
  },
  {
   "cell_type": "code",
   "execution_count": 18,
   "id": "94074890",
   "metadata": {},
   "outputs": [
    {
     "data": {
      "text/plain": [
       "15"
      ]
     },
     "execution_count": 18,
     "metadata": {},
     "output_type": "execute_result"
    }
   ],
   "source": [
    "apply(f_sum, *[1,2,3,4,5])"
   ]
  },
  {
   "cell_type": "code",
   "execution_count": 19,
   "id": "c2c6bc0e",
   "metadata": {},
   "outputs": [
    {
     "data": {
      "text/plain": [
       "8"
      ]
     },
     "execution_count": 19,
     "metadata": {},
     "output_type": "execute_result"
    }
   ],
   "source": [
    "apply(lambda x: x*2, 4)"
   ]
  },
  {
   "cell_type": "code",
   "execution_count": 20,
   "id": "5ce7d8a7",
   "metadata": {},
   "outputs": [],
   "source": [
    "l1 = [1,2,3,4]\n",
    "l2 = [11,12,13,14]"
   ]
  },
  {
   "cell_type": "code",
   "execution_count": 21,
   "id": "5e96ac7c",
   "metadata": {},
   "outputs": [
    {
     "data": {
      "text/plain": [
       "[1, 2, 3, 4, 11, 12, 13, 14]"
      ]
     },
     "execution_count": 21,
     "metadata": {},
     "output_type": "execute_result"
    }
   ],
   "source": [
    "l1 +l2"
   ]
  },
  {
   "cell_type": "code",
   "execution_count": 22,
   "id": "583c5e1f",
   "metadata": {},
   "outputs": [],
   "source": [
    "#l1*l2  => lỗi\n",
    "# dùng map để giải quyết chuyện này"
   ]
  },
  {
   "cell_type": "markdown",
   "id": "579a49ab",
   "metadata": {},
   "source": [
    "**(#) Map function**\n"
   ]
  },
  {
   "cell_type": "code",
   "execution_count": 23,
   "id": "380ae60f",
   "metadata": {},
   "outputs": [],
   "source": [
    "def add(x,y):\n",
    "    return x+y"
   ]
  },
  {
   "cell_type": "code",
   "execution_count": 24,
   "id": "e7b36783",
   "metadata": {},
   "outputs": [],
   "source": [
    "def mul(x,y):\n",
    "    return x*y"
   ]
  },
  {
   "cell_type": "code",
   "execution_count": 25,
   "id": "14c6cd87",
   "metadata": {},
   "outputs": [
    {
     "data": {
      "text/plain": [
       "[1, 2, 3, 4]"
      ]
     },
     "execution_count": 25,
     "metadata": {},
     "output_type": "execute_result"
    }
   ],
   "source": [
    "l1"
   ]
  },
  {
   "cell_type": "code",
   "execution_count": 26,
   "id": "aec9518d",
   "metadata": {},
   "outputs": [
    {
     "data": {
      "text/plain": [
       "[11, 12, 13, 14]"
      ]
     },
     "execution_count": 26,
     "metadata": {},
     "output_type": "execute_result"
    }
   ],
   "source": [
    "l2"
   ]
  },
  {
   "cell_type": "code",
   "execution_count": 27,
   "id": "86709495",
   "metadata": {},
   "outputs": [
    {
     "data": {
      "text/plain": [
       "<map at 0x28644636730>"
      ]
     },
     "execution_count": 27,
     "metadata": {},
     "output_type": "execute_result"
    }
   ],
   "source": [
    "# map(func, *iterables) --> map object\n",
    "map(add ,l1, l2)"
   ]
  },
  {
   "cell_type": "code",
   "execution_count": 28,
   "id": "8ab898ef",
   "metadata": {},
   "outputs": [
    {
     "data": {
      "text/plain": [
       "<map at 0x286447222e0>"
      ]
     },
     "execution_count": 28,
     "metadata": {},
     "output_type": "execute_result"
    }
   ],
   "source": [
    "map_add = map(add ,l1, l2)\n",
    "map_add"
   ]
  },
  {
   "cell_type": "code",
   "execution_count": 29,
   "id": "dcdf9e88",
   "metadata": {},
   "outputs": [
    {
     "name": "stdout",
     "output_type": "stream",
     "text": [
      "12\n",
      "14\n",
      "16\n",
      "18\n"
     ]
    }
   ],
   "source": [
    "for i in map_add:\n",
    "    print(i)"
   ]
  },
  {
   "cell_type": "code",
   "execution_count": 30,
   "id": "8424814c",
   "metadata": {},
   "outputs": [],
   "source": [
    "for i in map_add:\n",
    "    print(i)"
   ]
  },
  {
   "cell_type": "markdown",
   "id": "0acbeb65",
   "metadata": {},
   "source": [
    "**Ghi chú: map nó sẽ giống generator: map does not return a list, it return a generator object**\n",
    "**Put the result into a list to reuse**"
   ]
  },
  {
   "cell_type": "code",
   "execution_count": 31,
   "id": "123b1a27",
   "metadata": {},
   "outputs": [
    {
     "data": {
      "text/plain": [
       "[12, 14, 16, 18]"
      ]
     },
     "execution_count": 31,
     "metadata": {},
     "output_type": "execute_result"
    }
   ],
   "source": [
    "list_add = list(map(add, l1, l2))\n",
    "list_add"
   ]
  },
  {
   "cell_type": "code",
   "execution_count": 32,
   "id": "6310d2d4",
   "metadata": {},
   "outputs": [
    {
     "data": {
      "text/plain": [
       "[12, 14, 16, 18]"
      ]
     },
     "execution_count": 32,
     "metadata": {},
     "output_type": "execute_result"
    }
   ],
   "source": [
    "list_add"
   ]
  },
  {
   "cell_type": "markdown",
   "id": "bb6a8721",
   "metadata": {},
   "source": [
    "Ghi chú map thay cho hàm apply cho 1 function lên đối tượng iterable"
   ]
  },
  {
   "cell_type": "code",
   "execution_count": 33,
   "id": "567ea21e",
   "metadata": {},
   "outputs": [
    {
     "data": {
      "text/plain": [
       "[11, 24, 39, 56]"
      ]
     },
     "execution_count": 33,
     "metadata": {},
     "output_type": "execute_result"
    }
   ],
   "source": [
    "map_mul = list(map(mul, l1, l2))\n",
    "map_mul"
   ]
  },
  {
   "cell_type": "markdown",
   "id": "d69f23c8",
   "metadata": {},
   "source": [
    "#### Using lambda expression to a map"
   ]
  },
  {
   "cell_type": "code",
   "execution_count": 34,
   "id": "cf87c208",
   "metadata": {},
   "outputs": [],
   "source": [
    "l1 = [1,2,3]\n",
    "l2 = [10,20, 30]\n",
    "l3 = [100, 200, 300]"
   ]
  },
  {
   "cell_type": "code",
   "execution_count": 35,
   "id": "d75a85fe",
   "metadata": {},
   "outputs": [
    {
     "data": {
      "text/plain": [
       "[111, 222, 333]"
      ]
     },
     "execution_count": 35,
     "metadata": {},
     "output_type": "execute_result"
    }
   ],
   "source": [
    "map_add = list(map(lambda x,y,z: x+y+z, l1, l2, l3))\n",
    "map_add"
   ]
  },
  {
   "cell_type": "code",
   "execution_count": 36,
   "id": "1614be88",
   "metadata": {},
   "outputs": [
    {
     "data": {
      "text/plain": [
       "[1000, 8000, 27000]"
      ]
     },
     "execution_count": 36,
     "metadata": {},
     "output_type": "execute_result"
    }
   ],
   "source": [
    "map_mul = list(map(lambda x,y,z: x*y*z, l1, l2, l3))\n",
    "map_mul"
   ]
  },
  {
   "cell_type": "markdown",
   "id": "f5770dcf",
   "metadata": {},
   "source": [
    "#### Find out the even number"
   ]
  },
  {
   "cell_type": "code",
   "execution_count": 38,
   "id": "a3146133",
   "metadata": {},
   "outputs": [],
   "source": [
    "# even number in iterable object: map()\n",
    "\n",
    "def even(x):\n",
    "    return not (x%2)"
   ]
  },
  {
   "cell_type": "code",
   "execution_count": 39,
   "id": "252e1f4e",
   "metadata": {},
   "outputs": [
    {
     "data": {
      "text/plain": [
       "False"
      ]
     },
     "execution_count": 39,
     "metadata": {},
     "output_type": "execute_result"
    }
   ],
   "source": [
    "even(5)"
   ]
  },
  {
   "cell_type": "code",
   "execution_count": 40,
   "id": "b4db4f1b",
   "metadata": {},
   "outputs": [
    {
     "data": {
      "text/plain": [
       "[False, True, False, True, False, True, False, True, False]"
      ]
     },
     "execution_count": 40,
     "metadata": {},
     "output_type": "execute_result"
    }
   ],
   "source": [
    "list(map(even, range(1, 10)))"
   ]
  },
  {
   "cell_type": "code",
   "execution_count": 41,
   "id": "8d881f0a",
   "metadata": {},
   "outputs": [
    {
     "data": {
      "text/plain": [
       "[False, True, False, True, False, True, False, True, False, True]"
      ]
     },
     "execution_count": 41,
     "metadata": {},
     "output_type": "execute_result"
    }
   ],
   "source": [
    "# combine map with lambda\n",
    "list(map(lambda x: not x%2, range(1,11)))"
   ]
  },
  {
   "cell_type": "markdown",
   "id": "b6085981",
   "metadata": {},
   "source": [
    "**(#) Map vs. list comprehension**\n"
   ]
  },
  {
   "cell_type": "code",
   "execution_count": 44,
   "id": "c1df0f9b",
   "metadata": {},
   "outputs": [
    {
     "data": {
      "text/plain": [
       "[11, 22, 33]"
      ]
     },
     "execution_count": 44,
     "metadata": {},
     "output_type": "execute_result"
    }
   ],
   "source": [
    "# using zip in a for lop\n",
    "\n",
    "l1 = list(range(1,10))\n",
    "L2 = list(range(11, 20))\n",
    "l = []\n",
    "for i, j in zip(l1, l2):\n",
    "    l.append(i+j)\n",
    "    \n",
    "l"
   ]
  },
  {
   "cell_type": "code",
   "execution_count": 46,
   "id": "aa54697c",
   "metadata": {},
   "outputs": [
    {
     "data": {
      "text/plain": [
       "[11, 22, 33]"
      ]
     },
     "execution_count": 46,
     "metadata": {},
     "output_type": "execute_result"
    }
   ],
   "source": [
    "# Apply list compre\n",
    "[i+j for i, j in zip(l1, l2)]"
   ]
  },
  {
   "cell_type": "code",
   "execution_count": 47,
   "id": "bc2ae439",
   "metadata": {},
   "outputs": [
    {
     "data": {
      "text/plain": [
       "[11, 22, 33]"
      ]
     },
     "execution_count": 47,
     "metadata": {},
     "output_type": "execute_result"
    }
   ],
   "source": [
    "# Emply map()\n",
    "list(map(lambda x,y: x+y, l1, l2))"
   ]
  },
  {
   "cell_type": "markdown",
   "id": "8a604ffc",
   "metadata": {},
   "source": [
    "## video 9.9: function:filter, kết hợp filter và map\n",
    "\n",
    "### (#) Filter function - getting started"
   ]
  },
  {
   "cell_type": "code",
   "execution_count": 1,
   "id": "40b7e31b",
   "metadata": {},
   "outputs": [
    {
     "name": "stdout",
     "output_type": "stream",
     "text": [
      "Help on class filter in module builtins:\n",
      "\n",
      "class filter(object)\n",
      " |  filter(function or None, iterable) --> filter object\n",
      " |  \n",
      " |  Return an iterator yielding those items of iterable for which function(item)\n",
      " |  is true. If function is None, return the items that are true.\n",
      " |  \n",
      " |  Methods defined here:\n",
      " |  \n",
      " |  __getattribute__(self, name, /)\n",
      " |      Return getattr(self, name).\n",
      " |  \n",
      " |  __iter__(self, /)\n",
      " |      Implement iter(self).\n",
      " |  \n",
      " |  __next__(self, /)\n",
      " |      Implement next(self).\n",
      " |  \n",
      " |  __reduce__(...)\n",
      " |      Return state information for pickling.\n",
      " |  \n",
      " |  ----------------------------------------------------------------------\n",
      " |  Static methods defined here:\n",
      " |  \n",
      " |  __new__(*args, **kwargs) from builtins.type\n",
      " |      Create and return a new object.  See help(type) for accurate signature.\n",
      "\n"
     ]
    }
   ],
   "source": [
    "help(filter)"
   ]
  },
  {
   "cell_type": "markdown",
   "id": "465a4cde",
   "metadata": {},
   "source": [
    "filter(func or none, iterable): return filter object - truthy elements of the iterable"
   ]
  },
  {
   "cell_type": "code",
   "execution_count": 4,
   "id": "74fea319",
   "metadata": {},
   "outputs": [
    {
     "data": {
      "text/plain": [
       "<filter at 0x27399a97ee0>"
      ]
     },
     "execution_count": 4,
     "metadata": {},
     "output_type": "execute_result"
    }
   ],
   "source": [
    "l = [1,2,0, \" \", \"\", \"s\", True, False]\n",
    "\n",
    "filter(None, l)"
   ]
  },
  {
   "cell_type": "code",
   "execution_count": 5,
   "id": "de31b7f0",
   "metadata": {},
   "outputs": [
    {
     "data": {
      "text/plain": [
       "[1, 2, ' ', 's', True]"
      ]
     },
     "execution_count": 5,
     "metadata": {},
     "output_type": "execute_result"
    }
   ],
   "source": [
    "list(filter(None, l))"
   ]
  },
  {
   "cell_type": "code",
   "execution_count": 7,
   "id": "d0b79668",
   "metadata": {},
   "outputs": [
    {
     "data": {
      "text/plain": [
       "[2, 4, 6, 8]"
      ]
     },
     "execution_count": 7,
     "metadata": {},
     "output_type": "execute_result"
    }
   ],
   "source": [
    "l = [1,2,3,4,6,7,8]\n",
    "\n",
    "list(filter(lambda x: not x%2, l))"
   ]
  },
  {
   "cell_type": "code",
   "execution_count": 8,
   "id": "50829bea",
   "metadata": {},
   "outputs": [
    {
     "data": {
      "text/plain": [
       "[False, True, False, True, True, False, True]"
      ]
     },
     "execution_count": 8,
     "metadata": {},
     "output_type": "execute_result"
    }
   ],
   "source": [
    "list(map(lambda x: not x%2, l))"
   ]
  },
  {
   "cell_type": "markdown",
   "id": "68f54bd9",
   "metadata": {},
   "source": [
    "### (#) Filter function vs. list comprehension"
   ]
  },
  {
   "cell_type": "code",
   "execution_count": 9,
   "id": "74f7e7b6",
   "metadata": {},
   "outputs": [
    {
     "data": {
      "text/plain": [
       "[1, 2, 3, 4, 6, 7, 8]"
      ]
     },
     "execution_count": 9,
     "metadata": {},
     "output_type": "execute_result"
    }
   ],
   "source": [
    "l"
   ]
  },
  {
   "cell_type": "markdown",
   "id": "9b4a20c7",
   "metadata": {},
   "source": [
    "**list comprehension == map**"
   ]
  },
  {
   "cell_type": "code",
   "execution_count": 10,
   "id": "5732fc96",
   "metadata": {},
   "outputs": [
    {
     "data": {
      "text/plain": [
       "[True, True, True, True, False, False, False]"
      ]
     },
     "execution_count": 10,
     "metadata": {},
     "output_type": "execute_result"
    }
   ],
   "source": [
    "list(map(lambda x: x<5, l))"
   ]
  },
  {
   "cell_type": "code",
   "execution_count": 11,
   "id": "19955a21",
   "metadata": {},
   "outputs": [
    {
     "data": {
      "text/plain": [
       "[True, True, True, True, False, False, False]"
      ]
     },
     "execution_count": 11,
     "metadata": {},
     "output_type": "execute_result"
    }
   ],
   "source": [
    "[x<5 for x in l]"
   ]
  },
  {
   "cell_type": "markdown",
   "id": "d33865be",
   "metadata": {},
   "source": [
    "**list comprehension == filter**"
   ]
  },
  {
   "cell_type": "code",
   "execution_count": 12,
   "id": "3a01644c",
   "metadata": {},
   "outputs": [
    {
     "data": {
      "text/plain": [
       "[1, 2, 3, 4]"
      ]
     },
     "execution_count": 12,
     "metadata": {},
     "output_type": "execute_result"
    }
   ],
   "source": [
    "list(filter(lambda x: x<5, l))"
   ]
  },
  {
   "cell_type": "code",
   "execution_count": 13,
   "id": "46f51e18",
   "metadata": {},
   "outputs": [
    {
     "data": {
      "text/plain": [
       "[1, 2, 3, 4]"
      ]
     },
     "execution_count": 13,
     "metadata": {},
     "output_type": "execute_result"
    }
   ],
   "source": [
    "[x for x in l if x<5]"
   ]
  },
  {
   "cell_type": "markdown",
   "id": "57382ff1",
   "metadata": {},
   "source": [
    "## Combine filter and map"
   ]
  },
  {
   "cell_type": "code",
   "execution_count": 14,
   "id": "38c3778c",
   "metadata": {},
   "outputs": [
    {
     "name": "stdout",
     "output_type": "stream",
     "text": [
      "[10, 40, 90, 160, 250, 360]\n"
     ]
    },
    {
     "data": {
      "text/plain": [
       "[90, 160, 250, 360]"
      ]
     },
     "execution_count": 14,
     "metadata": {},
     "output_type": "execute_result"
    }
   ],
   "source": [
    "l1 = [1,2,3,4,5,6] # số lượng sản phẩm bán được\n",
    "l2 = [10,20,30,40,50,60] # giá sản phẩm tương ứng\n",
    "\n",
    "# bài toán đặt ra là tìm sản phẩm có doanh \n",
    "#thu lớn hơn 50, doanh thu của 1 sản phẩm bằng l1_i * l2_i\n",
    "# tương ứng\n",
    "\n",
    "#list(filter(func lambda,iterable - map()))\n",
    "\n",
    "print(list(map(lambda x, y: x*y, l1,l2)))\n",
    "list(filter(lambda x: x>50 , map(lambda x, y: x*y, l1,l2)))"
   ]
  },
  {
   "cell_type": "code",
   "execution_count": 16,
   "id": "fa7404dd",
   "metadata": {},
   "outputs": [
    {
     "data": {
      "text/plain": [
       "[90, 160, 250, 360]"
      ]
     },
     "execution_count": 16,
     "metadata": {},
     "output_type": "execute_result"
    }
   ],
   "source": [
    "# giải bài toán trên với list comprehension\n",
    "\n",
    "[i*j for i, j in zip(l1, l2) if i*j> 50]"
   ]
  },
  {
   "cell_type": "code",
   "execution_count": 22,
   "id": "a09a46d6",
   "metadata": {},
   "outputs": [
    {
     "data": {
      "text/plain": [
       "[2, 6, 24, 120]"
      ]
     },
     "execution_count": 22,
     "metadata": {},
     "output_type": "execute_result"
    }
   ],
   "source": [
    "# lọc ra các số với giai thừa từ 1 đến 5 là các số chẵn\n",
    "# [1!, 2!, 3!, 4!] -> [2!,3!,4!]\n",
    "def gt(n):\n",
    "    return 1 if n<2 else gt(n-1)*n\n",
    "\n",
    "list(filter(lambda x: not x%2, map(gt, range(1,6))))"
   ]
  },
  {
   "cell_type": "markdown",
   "id": "7e3fa8d9",
   "metadata": {},
   "source": [
    "## video 9.10: function: reduce\n",
    "\n",
    "trong kĩ thuật người ta hay nhắn đến map và reduce\n",
    "\n",
    "trong python\n",
    "\n",
    "map -> iterable object\n",
    "\n",
    "filter -> subset\n",
    "\n",
    "reduce -(iterable)-> single value\n",
    "\n",
    "Reduce : vd sum, min, max, average, ... (giảm chiều dữ liệu)\n",
    "\n"
   ]
  },
  {
   "cell_type": "markdown",
   "id": "36e2e9a2",
   "metadata": {},
   "source": [
    "### (#) Loop and function approach"
   ]
  },
  {
   "cell_type": "code",
   "execution_count": 28,
   "id": "7b10ce08",
   "metadata": {},
   "outputs": [
    {
     "data": {
      "text/plain": [
       "120"
      ]
     },
     "execution_count": 28,
     "metadata": {},
     "output_type": "execute_result"
    }
   ],
   "source": [
    "# cách tiếp cận thủ công tìm max trong list các phần tử\n",
    "l = [1,3,120,5,6,3,10]\n",
    "\n",
    "max_ = l[0]\n",
    "\n",
    "for i in l[1:]:\n",
    "    if i> max_:\n",
    "        max_ =i\n",
    "\n",
    "max_"
   ]
  },
  {
   "cell_type": "code",
   "execution_count": 27,
   "id": "77b3a1bc",
   "metadata": {},
   "outputs": [
    {
     "name": "stdout",
     "output_type": "stream",
     "text": [
      "[1, 3, 120, 5, 6, 3, 10]\n"
     ]
    },
    {
     "data": {
      "text/plain": [
       "120"
      ]
     },
     "execution_count": 27,
     "metadata": {},
     "output_type": "execute_result"
    }
   ],
   "source": [
    "# cách tiếp cận sài loop và function\n",
    "\n",
    "print(l)\n",
    "\n",
    "def max_val(x, y):\n",
    "    return x if x> y else y\n",
    "\n",
    "\n",
    "def max_seq(seq): # trả về max của 1 list\n",
    "    re = seq[0]\n",
    "    for i in seq[1:]:\n",
    "        re = max_val(re, i)\n",
    "    return re\n",
    "    \n",
    "max_seq(l)"
   ]
  },
  {
   "cell_type": "code",
   "execution_count": 30,
   "id": "502a8ae5",
   "metadata": {},
   "outputs": [
    {
     "data": {
      "text/plain": [
       "120"
      ]
     },
     "execution_count": 30,
     "metadata": {},
     "output_type": "execute_result"
    }
   ],
   "source": [
    "# cách tiếp cận dùng lambda và function apply - nâng cao\n",
    "# sài cho nhiều function cùng lúc\n",
    "\n",
    "max_val = lambda x, y: x if x>y else y\n",
    "min_val = lambda x, y: x if x<y else y\n",
    "sum_val = lambda x, y: x+y\n",
    "mul_val = lambda x, y: x*y\n",
    "\n",
    "def apply(fn, seq): # vẫn là trả về max hoặc min hoặc sum, mul nhưng mang ý\n",
    "    # nghĩa của hàm reduce hơn chỉ là tính tổng hay max mul\n",
    "    re = seq[0]\n",
    "    for i in seq[1:]:\n",
    "        re = fn(re, i)\n",
    "    return re\n",
    "    \n",
    "apply(max_val, l)"
   ]
  },
  {
   "cell_type": "code",
   "execution_count": 31,
   "id": "7eb7f2d6",
   "metadata": {},
   "outputs": [
    {
     "data": {
      "text/plain": [
       "1"
      ]
     },
     "execution_count": 31,
     "metadata": {},
     "output_type": "execute_result"
    }
   ],
   "source": [
    "apply(min_val, l)"
   ]
  },
  {
   "cell_type": "code",
   "execution_count": 32,
   "id": "3596e1c6",
   "metadata": {},
   "outputs": [
    {
     "data": {
      "text/plain": [
       "148"
      ]
     },
     "execution_count": 32,
     "metadata": {},
     "output_type": "execute_result"
    }
   ],
   "source": [
    "apply(sum_val, l)"
   ]
  },
  {
   "cell_type": "code",
   "execution_count": 33,
   "id": "1883ac3e",
   "metadata": {},
   "outputs": [
    {
     "data": {
      "text/plain": [
       "324000"
      ]
     },
     "execution_count": 33,
     "metadata": {},
     "output_type": "execute_result"
    }
   ],
   "source": [
    "apply(mul_val, l)"
   ]
  },
  {
   "cell_type": "markdown",
   "id": "6145d5cf",
   "metadata": {},
   "source": [
    "Ghi chú: về hàm apply mô tả tính chất của hàm reduce, thực chất hàm reduce là phép giảm chiều dữ liệu trả về 1 single value, áp dụng trên iterable sử dụng từng kết quả liền kề với nhau một để tính toán\n",
    "\n",
    "vd: list 1,2,3,4\n",
    "=> reduce với func là sum thì sẽ thực hiện như sau\n",
    "\n",
    "(((1+2) +3 ) +4)"
   ]
  },
  {
   "cell_type": "markdown",
   "id": "ad6269b0",
   "metadata": {},
   "source": [
    "### (#) Apply reduce() from functools"
   ]
  },
  {
   "cell_type": "code",
   "execution_count": 35,
   "id": "d27f4888",
   "metadata": {},
   "outputs": [
    {
     "name": "stdout",
     "output_type": "stream",
     "text": [
      "Help on built-in function reduce in module _functools:\n",
      "\n",
      "reduce(...)\n",
      "    reduce(function, sequence[, initial]) -> value\n",
      "    \n",
      "    Apply a function of two arguments cumulatively to the items of a sequence,\n",
      "    from left to right, so as to reduce the sequence to a single value.\n",
      "    For example, reduce(lambda x, y: x+y, [1, 2, 3, 4, 5]) calculates\n",
      "    ((((1+2)+3)+4)+5).  If initial is present, it is placed before the items\n",
      "    of the sequence in the calculation, and serves as a default when the\n",
      "    sequence is empty.\n",
      "\n"
     ]
    }
   ],
   "source": [
    "from functools import reduce\n",
    "\n",
    "help(reduce)"
   ]
  },
  {
   "cell_type": "markdown",
   "id": "2eb35a61",
   "metadata": {},
   "source": [
    "Ở đây hàm trong sequence có thiết lập initial không cần quá quan tâm, thiết lập này dành cho nếu list - đóng vai trò iterable ta nhập vào là giá trị rỗng thì nó sẽ trả về kết quả mặc định là initial"
   ]
  },
  {
   "cell_type": "code",
   "execution_count": 36,
   "id": "552c24b9",
   "metadata": {},
   "outputs": [
    {
     "data": {
      "text/plain": [
       "120"
      ]
     },
     "execution_count": 36,
     "metadata": {},
     "output_type": "execute_result"
    }
   ],
   "source": [
    "reduce(max_val, l)"
   ]
  },
  {
   "cell_type": "code",
   "execution_count": 37,
   "id": "80a97af8",
   "metadata": {},
   "outputs": [
    {
     "data": {
      "text/plain": [
       "1"
      ]
     },
     "execution_count": 37,
     "metadata": {},
     "output_type": "execute_result"
    }
   ],
   "source": [
    "reduce(min_val, l)"
   ]
  },
  {
   "cell_type": "code",
   "execution_count": 38,
   "id": "add44db9",
   "metadata": {},
   "outputs": [
    {
     "data": {
      "text/plain": [
       "324000"
      ]
     },
     "execution_count": 38,
     "metadata": {},
     "output_type": "execute_result"
    }
   ],
   "source": [
    "reduce(mul_val, l)"
   ]
  },
  {
   "cell_type": "markdown",
   "id": "36b611b6",
   "metadata": {},
   "source": [
    "Giống hàm apply ở trên thôi"
   ]
  },
  {
   "cell_type": "markdown",
   "id": "ebf9c712",
   "metadata": {},
   "source": [
    "\n",
    "### apply reduce to alternate any()"
   ]
  },
  {
   "cell_type": "code",
   "execution_count": 44,
   "id": "559bc7b1",
   "metadata": {},
   "outputs": [
    {
     "data": {
      "text/plain": [
       "False"
      ]
     },
     "execution_count": 44,
     "metadata": {},
     "output_type": "execute_result"
    }
   ],
   "source": [
    "### apply reduce to alternate all()\n",
    "\n",
    "all_val = lambda x, y: bool(x) and bool(y)\n",
    "any_val = lambda x, y: bool(x) or bool(y)\n",
    "\n",
    "l = [None, 1, True]\n",
    "l2 = [1, 3, True]\n",
    "\n",
    "reduce(all_val, l)"
   ]
  },
  {
   "cell_type": "code",
   "execution_count": 45,
   "id": "7bffb11a",
   "metadata": {},
   "outputs": [
    {
     "data": {
      "text/plain": [
       "True"
      ]
     },
     "execution_count": 45,
     "metadata": {},
     "output_type": "execute_result"
    }
   ],
   "source": [
    "reduce(all_val, l2)"
   ]
  },
  {
   "cell_type": "code",
   "execution_count": 46,
   "id": "c3501172",
   "metadata": {},
   "outputs": [
    {
     "data": {
      "text/plain": [
       "True"
      ]
     },
     "execution_count": 46,
     "metadata": {},
     "output_type": "execute_result"
    }
   ],
   "source": [
    "reduce(any_val, l)"
   ]
  },
  {
   "cell_type": "code",
   "execution_count": 47,
   "id": "276d3976",
   "metadata": {},
   "outputs": [
    {
     "data": {
      "text/plain": [
       "True"
      ]
     },
     "execution_count": 47,
     "metadata": {},
     "output_type": "execute_result"
    }
   ],
   "source": [
    "reduce(any_val, l2)"
   ]
  },
  {
   "cell_type": "code",
   "execution_count": 48,
   "id": "335dd6a4",
   "metadata": {},
   "outputs": [
    {
     "data": {
      "text/plain": [
       "3628800"
      ]
     },
     "execution_count": 48,
     "metadata": {},
     "output_type": "execute_result"
    }
   ],
   "source": [
    "reduce(lambda x, y: x*y, range(1, 11))"
   ]
  },
  {
   "cell_type": "markdown",
   "id": "c738ed4a",
   "metadata": {},
   "source": [
    "\n",
    "video 9.11: function: Scopes, built-in scope, global scope, closure scope, local scope, cloure: Free varibles - Cells -Nested cloures"
   ]
  },
  {
   "cell_type": "markdown",
   "id": "f66711e6",
   "metadata": {},
   "source": []
  },
  {
   "cell_type": "markdown",
   "id": "f6a366bb",
   "metadata": {},
   "source": []
  },
  {
   "cell_type": "markdown",
   "id": "a23fc8b6",
   "metadata": {},
   "source": []
  },
  {
   "cell_type": "markdown",
   "id": "f74bde6f",
   "metadata": {},
   "source": []
  },
  {
   "cell_type": "markdown",
   "id": "ec5e2d0f",
   "metadata": {},
   "source": []
  }
 ],
 "metadata": {
  "kernelspec": {
   "display_name": "Python 3",
   "language": "python",
   "name": "python3"
  },
  "language_info": {
   "codemirror_mode": {
    "name": "ipython",
    "version": 3
   },
   "file_extension": ".py",
   "mimetype": "text/x-python",
   "name": "python",
   "nbconvert_exporter": "python",
   "pygments_lexer": "ipython3",
   "version": "3.8.11"
  }
 },
 "nbformat": 4,
 "nbformat_minor": 5
}
